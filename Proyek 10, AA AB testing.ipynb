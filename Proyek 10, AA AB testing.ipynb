{
 "cells": [
  {
   "cell_type": "markdown",
   "id": "cac3c146",
   "metadata": {},
   "source": [
    "# Tujuan Proyek\n",
    "\n",
    "Di sebuah startup yang menjual produk makanan saya menganalisis perilaku pengguna perusahaan tersebut, hal yang akan saya analisis adalah :\n",
    "- mempelajari corong penjualannya : mengetahui tahapan pembelian dan  berapa pelanggan yang sampai pembelian makanan, dan melihat jumlah pelanggan yang berhenti di setiap tahap\n",
    "- melakukan A/A testing dan A/B testing(pada kasus ini team design ingin mengubah font untuk aplikasi ini , tetapi ada ke khawatiran pelanggan malah tidak suka dengan design baru ini) dilakukan A/B testing untuk membagi kelompok dimana 1 kelompok menggunakan font baru dan yang 1 menggunakan font lama. Lalu juga melakukan A/A testing untuk melihat kelompok mana yang lebih memberikan keuntungan(dengan kondisi masih menggunakan font lama untuk uji coba A/A ini)\n",
    "\n",
    "jadi disini ada 3 kelompok untuk pengujian, 2 kelompok bernama KELOMPOK A (dengan font lama) dan 1 kelompok bernama KELOMPOK B(dengan font baru)."
   ]
  },
  {
   "cell_type": "code",
   "execution_count": 1,
   "id": "6cc71820",
   "metadata": {},
   "outputs": [],
   "source": [
    "#import library yang dibutuhkan\n",
    "import pandas as pd\n",
    "import numpy as np\n",
    "import matplotlib.pyplot as plt\n",
    "import seaborn as sns\n",
    "import math as mt\n",
    "from scipy import stats as st"
   ]
  },
  {
   "cell_type": "code",
   "execution_count": 2,
   "id": "554c308f",
   "metadata": {},
   "outputs": [],
   "source": [
    "#memuat data set\n",
    "df = pd.read_csv('https://practicum-content.s3.us-west-1.amazonaws.com/datasets/logs_exp_us.csv',sep=\"\\t\")"
   ]
  },
  {
   "cell_type": "code",
   "execution_count": 3,
   "id": "a6f79135",
   "metadata": {},
   "outputs": [
    {
     "name": "stdout",
     "output_type": "stream",
     "text": [
      "<class 'pandas.core.frame.DataFrame'>\n",
      "RangeIndex: 244126 entries, 0 to 244125\n",
      "Data columns (total 4 columns):\n",
      " #   Column          Non-Null Count   Dtype \n",
      "---  ------          --------------   ----- \n",
      " 0   EventName       244126 non-null  object\n",
      " 1   DeviceIDHash    244126 non-null  int64 \n",
      " 2   EventTimestamp  244126 non-null  int64 \n",
      " 3   ExpId           244126 non-null  int64 \n",
      "dtypes: int64(3), object(1)\n",
      "memory usage: 7.5+ MB\n"
     ]
    }
   ],
   "source": [
    "#melihat dataset apakah ada nilai hilang atau konversi tipe data\n",
    "df.info()"
   ]
  },
  {
   "cell_type": "code",
   "execution_count": 4,
   "id": "25d3a6e6",
   "metadata": {},
   "outputs": [
    {
     "data": {
      "text/plain": [
       "413"
      ]
     },
     "execution_count": 4,
     "metadata": {},
     "output_type": "execute_result"
    }
   ],
   "source": [
    "#menghitung duplikasi data\n",
    "df.duplicated().sum()"
   ]
  },
  {
   "cell_type": "code",
   "execution_count": 5,
   "id": "ec8870c0",
   "metadata": {},
   "outputs": [],
   "source": [
    "#menghapus duplikasi data\n",
    "df = df.drop_duplicates()"
   ]
  },
  {
   "cell_type": "code",
   "execution_count": 6,
   "id": "72293e9b",
   "metadata": {},
   "outputs": [],
   "source": [
    "#konversi tipe data EventTimestamp jadi date time dan karena masih tanggal nya tipe timestamp maka harus dikonversi jadi \n",
    "#penanggalan biasa,dan menambah column berisi tanggal saja tanpa keterangan waktu\n",
    "df['NewEventTimestamp'] = pd.to_datetime(df['EventTimestamp'],unit='s')\n",
    "df['date'] = df['NewEventTimestamp'].dt.date\n",
    "df['date'] = pd.to_datetime(df['date'])"
   ]
  },
  {
   "cell_type": "code",
   "execution_count": 7,
   "id": "b2afb513",
   "metadata": {},
   "outputs": [
    {
     "data": {
      "text/html": [
       "<div>\n",
       "<style scoped>\n",
       "    .dataframe tbody tr th:only-of-type {\n",
       "        vertical-align: middle;\n",
       "    }\n",
       "\n",
       "    .dataframe tbody tr th {\n",
       "        vertical-align: top;\n",
       "    }\n",
       "\n",
       "    .dataframe thead th {\n",
       "        text-align: right;\n",
       "    }\n",
       "</style>\n",
       "<table border=\"1\" class=\"dataframe\">\n",
       "  <thead>\n",
       "    <tr style=\"text-align: right;\">\n",
       "      <th></th>\n",
       "      <th>EventName</th>\n",
       "      <th>DeviceIDHash</th>\n",
       "      <th>EventTimestamp</th>\n",
       "      <th>ExpId</th>\n",
       "      <th>NewEventTimestamp</th>\n",
       "      <th>date</th>\n",
       "    </tr>\n",
       "  </thead>\n",
       "  <tbody>\n",
       "    <tr>\n",
       "      <th>0</th>\n",
       "      <td>MainScreenAppear</td>\n",
       "      <td>4575588528974610257</td>\n",
       "      <td>1564029816</td>\n",
       "      <td>246</td>\n",
       "      <td>2019-07-25 04:43:36</td>\n",
       "      <td>2019-07-25</td>\n",
       "    </tr>\n",
       "    <tr>\n",
       "      <th>1</th>\n",
       "      <td>MainScreenAppear</td>\n",
       "      <td>7416695313311560658</td>\n",
       "      <td>1564053102</td>\n",
       "      <td>246</td>\n",
       "      <td>2019-07-25 11:11:42</td>\n",
       "      <td>2019-07-25</td>\n",
       "    </tr>\n",
       "    <tr>\n",
       "      <th>2</th>\n",
       "      <td>PaymentScreenSuccessful</td>\n",
       "      <td>3518123091307005509</td>\n",
       "      <td>1564054127</td>\n",
       "      <td>248</td>\n",
       "      <td>2019-07-25 11:28:47</td>\n",
       "      <td>2019-07-25</td>\n",
       "    </tr>\n",
       "    <tr>\n",
       "      <th>3</th>\n",
       "      <td>CartScreenAppear</td>\n",
       "      <td>3518123091307005509</td>\n",
       "      <td>1564054127</td>\n",
       "      <td>248</td>\n",
       "      <td>2019-07-25 11:28:47</td>\n",
       "      <td>2019-07-25</td>\n",
       "    </tr>\n",
       "    <tr>\n",
       "      <th>4</th>\n",
       "      <td>PaymentScreenSuccessful</td>\n",
       "      <td>6217807653094995999</td>\n",
       "      <td>1564055322</td>\n",
       "      <td>248</td>\n",
       "      <td>2019-07-25 11:48:42</td>\n",
       "      <td>2019-07-25</td>\n",
       "    </tr>\n",
       "  </tbody>\n",
       "</table>\n",
       "</div>"
      ],
      "text/plain": [
       "                 EventName         DeviceIDHash  EventTimestamp  ExpId  \\\n",
       "0         MainScreenAppear  4575588528974610257      1564029816    246   \n",
       "1         MainScreenAppear  7416695313311560658      1564053102    246   \n",
       "2  PaymentScreenSuccessful  3518123091307005509      1564054127    248   \n",
       "3         CartScreenAppear  3518123091307005509      1564054127    248   \n",
       "4  PaymentScreenSuccessful  6217807653094995999      1564055322    248   \n",
       "\n",
       "    NewEventTimestamp       date  \n",
       "0 2019-07-25 04:43:36 2019-07-25  \n",
       "1 2019-07-25 11:11:42 2019-07-25  \n",
       "2 2019-07-25 11:28:47 2019-07-25  \n",
       "3 2019-07-25 11:28:47 2019-07-25  \n",
       "4 2019-07-25 11:48:42 2019-07-25  "
      ]
     },
     "execution_count": 7,
     "metadata": {},
     "output_type": "execute_result"
    }
   ],
   "source": [
    "df.head(5)"
   ]
  },
  {
   "cell_type": "code",
   "execution_count": 8,
   "id": "4466ed53",
   "metadata": {},
   "outputs": [
    {
     "data": {
      "text/plain": [
       "248    85582\n",
       "246    80181\n",
       "247    77950\n",
       "Name: ExpId, dtype: int64"
      ]
     },
     "execution_count": 8,
     "metadata": {},
     "output_type": "execute_result"
    }
   ],
   "source": [
    "#menghitung jumlah masing masing peristiwa yang terjadi\n",
    "df['ExpId'].value_counts()"
   ]
  },
  {
   "cell_type": "code",
   "execution_count": 9,
   "id": "2c5d2203",
   "metadata": {},
   "outputs": [
    {
     "data": {
      "text/plain": [
       "array(['MainScreenAppear', 'PaymentScreenSuccessful', 'CartScreenAppear',\n",
       "       'OffersScreenAppear', 'Tutorial'], dtype=object)"
      ]
     },
     "execution_count": 9,
     "metadata": {},
     "output_type": "execute_result"
    }
   ],
   "source": [
    "#jumlah peristiwa yang ada di data\n",
    "df['EventName'].unique()"
   ]
  },
  {
   "cell_type": "code",
   "execution_count": 10,
   "id": "66f7fd31",
   "metadata": {},
   "outputs": [
    {
     "data": {
      "text/plain": [
       "7551"
      ]
     },
     "execution_count": 10,
     "metadata": {},
     "output_type": "execute_result"
    }
   ],
   "source": [
    "#menghitung pengguna yang ada di dataset\n",
    "df['DeviceIDHash'].nunique()"
   ]
  },
  {
   "cell_type": "code",
   "execution_count": 11,
   "id": "95bb354d",
   "metadata": {},
   "outputs": [
    {
     "data": {
      "text/plain": [
       "12.06798712552612"
      ]
     },
     "execution_count": 11,
     "metadata": {},
     "output_type": "execute_result"
    }
   ],
   "source": [
    "#jumlah rata rata peristiwa per pengguna\n",
    "df.groupby(['DeviceIDHash','EventName'])['DeviceIDHash'].count().mean()"
   ]
  },
  {
   "cell_type": "code",
   "execution_count": 12,
   "id": "43e7810f",
   "metadata": {},
   "outputs": [
    {
     "data": {
      "text/plain": [
       "<AxesSubplot:xlabel='date', ylabel='Count'>"
      ]
     },
     "execution_count": 12,
     "metadata": {},
     "output_type": "execute_result"
    },
    {
     "data": {
      "image/png": "[encoded data removed]",
      "text/plain": [
       "<Figure size 2000x1000 with 1 Axes>"
      ]
     },
     "metadata": {},
     "output_type": "display_data"
    }
   ],
   "source": [
    "#Periode waktu yang dicakup oleh data\n",
    "plt.figure(figsize=(20,10))\n",
    "sns.histplot(data=df,x='date')"
   ]
  },
  {
   "cell_type": "markdown",
   "id": "727342a2",
   "metadata": {},
   "source": [
    "karena peristiwa paling banyak terjadi mulai periode 2019-08-01 saya hanya akan menggunakan data dari periode tersebut karena periode sebelumnya peristowa yang terjadi terlalu sedikit"
   ]
  },
  {
   "cell_type": "code",
   "execution_count": 13,
   "id": "13d4177e",
   "metadata": {},
   "outputs": [],
   "source": [
    "df_filter = df[df['date']>'2019-07-31']"
   ]
  },
  {
   "cell_type": "code",
   "execution_count": 14,
   "id": "2856d52f",
   "metadata": {},
   "outputs": [
    {
     "data": {
      "text/plain": [
       "2826"
      ]
     },
     "execution_count": 14,
     "metadata": {},
     "output_type": "execute_result"
    }
   ],
   "source": [
    "#mengecek berapa data yang hilang setelah melakukan filter data\n",
    "len(df)-len(df_filter)"
   ]
  },
  {
   "cell_type": "code",
   "execution_count": 15,
   "id": "0364e425",
   "metadata": {},
   "outputs": [
    {
     "data": {
      "text/html": [
       "<div>\n",
       "<style scoped>\n",
       "    .dataframe tbody tr th:only-of-type {\n",
       "        vertical-align: middle;\n",
       "    }\n",
       "\n",
       "    .dataframe tbody tr th {\n",
       "        vertical-align: top;\n",
       "    }\n",
       "\n",
       "    .dataframe thead th {\n",
       "        text-align: right;\n",
       "    }\n",
       "</style>\n",
       "<table border=\"1\" class=\"dataframe\">\n",
       "  <thead>\n",
       "    <tr style=\"text-align: right;\">\n",
       "      <th></th>\n",
       "      <th>DeviceIDHash</th>\n",
       "    </tr>\n",
       "    <tr>\n",
       "      <th>ExpId</th>\n",
       "      <th></th>\n",
       "    </tr>\n",
       "  </thead>\n",
       "  <tbody>\n",
       "    <tr>\n",
       "      <th>246</th>\n",
       "      <td>2484</td>\n",
       "    </tr>\n",
       "    <tr>\n",
       "      <th>247</th>\n",
       "      <td>2513</td>\n",
       "    </tr>\n",
       "    <tr>\n",
       "      <th>248</th>\n",
       "      <td>2537</td>\n",
       "    </tr>\n",
       "  </tbody>\n",
       "</table>\n",
       "</div>"
      ],
      "text/plain": [
       "       DeviceIDHash\n",
       "ExpId              \n",
       "246            2484\n",
       "247            2513\n",
       "248            2537"
      ]
     },
     "execution_count": 15,
     "metadata": {},
     "output_type": "execute_result"
    }
   ],
   "source": [
    "#mengecek data yang sudah difilter harus memiliki dari ketiga pengguna\n",
    "df_filter.groupby('ExpId').agg({'DeviceIDHash':'nunique'})"
   ]
  },
  {
   "cell_type": "markdown",
   "id": "5a65567c",
   "metadata": {},
   "source": [
    "### Lihat peristiwa apa saja yang ada dalam log dan berapa banyak frekuensi kemunculannya. Urutkan peristiwa tersebut berdasarkan frekuensi."
   ]
  },
  {
   "cell_type": "code",
   "execution_count": 16,
   "id": "e450f004",
   "metadata": {},
   "outputs": [
    {
     "data": {
      "text/html": [
       "<div>\n",
       "<style scoped>\n",
       "    .dataframe tbody tr th:only-of-type {\n",
       "        vertical-align: middle;\n",
       "    }\n",
       "\n",
       "    .dataframe tbody tr th {\n",
       "        vertical-align: top;\n",
       "    }\n",
       "\n",
       "    .dataframe thead th {\n",
       "        text-align: right;\n",
       "    }\n",
       "</style>\n",
       "<table border=\"1\" class=\"dataframe\">\n",
       "  <thead>\n",
       "    <tr style=\"text-align: right;\">\n",
       "      <th></th>\n",
       "      <th>EventName</th>\n",
       "      <th>DeviceIDHash</th>\n",
       "    </tr>\n",
       "  </thead>\n",
       "  <tbody>\n",
       "    <tr>\n",
       "      <th>1</th>\n",
       "      <td>MainScreenAppear</td>\n",
       "      <td>117328</td>\n",
       "    </tr>\n",
       "    <tr>\n",
       "      <th>2</th>\n",
       "      <td>OffersScreenAppear</td>\n",
       "      <td>46333</td>\n",
       "    </tr>\n",
       "    <tr>\n",
       "      <th>0</th>\n",
       "      <td>CartScreenAppear</td>\n",
       "      <td>42303</td>\n",
       "    </tr>\n",
       "    <tr>\n",
       "      <th>3</th>\n",
       "      <td>PaymentScreenSuccessful</td>\n",
       "      <td>33918</td>\n",
       "    </tr>\n",
       "    <tr>\n",
       "      <th>4</th>\n",
       "      <td>Tutorial</td>\n",
       "      <td>1005</td>\n",
       "    </tr>\n",
       "  </tbody>\n",
       "</table>\n",
       "</div>"
      ],
      "text/plain": [
       "                 EventName  DeviceIDHash\n",
       "1         MainScreenAppear        117328\n",
       "2       OffersScreenAppear         46333\n",
       "0         CartScreenAppear         42303\n",
       "3  PaymentScreenSuccessful         33918\n",
       "4                 Tutorial          1005"
      ]
     },
     "execution_count": 16,
     "metadata": {},
     "output_type": "execute_result"
    }
   ],
   "source": [
    "log_count = df_filter.groupby('EventName').agg({'DeviceIDHash':'count'}).reset_index().sort_values(by='DeviceIDHash',ascending=False)\n",
    "log_count"
   ]
  },
  {
   "cell_type": "markdown",
   "id": "a9858eb7",
   "metadata": {},
   "source": [
    "### Temukan jumlah pengguna yang melakukan setiap tindakan. Urutkan peristiwa berdasarkan jumlah pengguna. Hitung proporsi pengguna yang melakukan tindakan setidaknya satu kali"
   ]
  },
  {
   "cell_type": "code",
   "execution_count": 17,
   "id": "9ce6bcb5",
   "metadata": {},
   "outputs": [
    {
     "data": {
      "text/plain": [
       "466"
      ]
     },
     "execution_count": 17,
     "metadata": {},
     "output_type": "execute_result"
    }
   ],
   "source": [
    "user_do = df_filter.groupby('DeviceIDHash').agg({'EventName':'nunique'}).reset_index()\n",
    "len(user_do[user_do['EventName']==5])"
   ]
  },
  {
   "cell_type": "markdown",
   "id": "38a275da",
   "metadata": {},
   "source": [
    "terdapat 375 user yang melakukan semua event dari awal hingga akhir, disini ada 5 event jadi ada 375 pengunjung yang melakukan ke 5 event ini"
   ]
  },
  {
   "cell_type": "markdown",
   "id": "417a3870",
   "metadata": {},
   "source": [
    "#### Gunakan corong peristiwa untuk menemukan persentase pengguna yang terus berlanjut dari satu tahap ke tahap berikutnya. (Misalnya, untuk urutan peristiwa A → B → C, hitung rasio pengguna pada tahap B terhadap jumlah pengguna pada tahap A, serta rasio pengguna pada tahap C terhadap jumlah pengguna pada tahap B)."
   ]
  },
  {
   "cell_type": "code",
   "execution_count": 18,
   "id": "14f0cdb7",
   "metadata": {},
   "outputs": [
    {
     "data": {
      "text/html": [
       "<div>\n",
       "<style scoped>\n",
       "    .dataframe tbody tr th:only-of-type {\n",
       "        vertical-align: middle;\n",
       "    }\n",
       "\n",
       "    .dataframe tbody tr th {\n",
       "        vertical-align: top;\n",
       "    }\n",
       "\n",
       "    .dataframe thead th {\n",
       "        text-align: right;\n",
       "    }\n",
       "</style>\n",
       "<table border=\"1\" class=\"dataframe\">\n",
       "  <thead>\n",
       "    <tr style=\"text-align: right;\">\n",
       "      <th></th>\n",
       "      <th>EventName</th>\n",
       "      <th>DeviceIDHash</th>\n",
       "      <th>d2</th>\n",
       "      <th>ratio</th>\n",
       "    </tr>\n",
       "  </thead>\n",
       "  <tbody>\n",
       "    <tr>\n",
       "      <th>1</th>\n",
       "      <td>MainScreenAppear</td>\n",
       "      <td>7419</td>\n",
       "      <td>4593.0</td>\n",
       "      <td>NaN</td>\n",
       "    </tr>\n",
       "    <tr>\n",
       "      <th>2</th>\n",
       "      <td>OffersScreenAppear</td>\n",
       "      <td>4593</td>\n",
       "      <td>3734.0</td>\n",
       "      <td>62.0</td>\n",
       "    </tr>\n",
       "    <tr>\n",
       "      <th>0</th>\n",
       "      <td>CartScreenAppear</td>\n",
       "      <td>3734</td>\n",
       "      <td>3539.0</td>\n",
       "      <td>81.0</td>\n",
       "    </tr>\n",
       "    <tr>\n",
       "      <th>3</th>\n",
       "      <td>PaymentScreenSuccessful</td>\n",
       "      <td>3539</td>\n",
       "      <td>840.0</td>\n",
       "      <td>95.0</td>\n",
       "    </tr>\n",
       "    <tr>\n",
       "      <th>4</th>\n",
       "      <td>Tutorial</td>\n",
       "      <td>840</td>\n",
       "      <td>NaN</td>\n",
       "      <td>24.0</td>\n",
       "    </tr>\n",
       "  </tbody>\n",
       "</table>\n",
       "</div>"
      ],
      "text/plain": [
       "                 EventName  DeviceIDHash      d2  ratio\n",
       "1         MainScreenAppear          7419  4593.0    NaN\n",
       "2       OffersScreenAppear          4593  3734.0   62.0\n",
       "0         CartScreenAppear          3734  3539.0   81.0\n",
       "3  PaymentScreenSuccessful          3539   840.0   95.0\n",
       "4                 Tutorial           840     NaN   24.0"
      ]
     },
     "execution_count": 18,
     "metadata": {},
     "output_type": "execute_result"
    }
   ],
   "source": [
    "event_count = df_filter.groupby('EventName')['DeviceIDHash'].nunique().reset_index().sort_values(by='DeviceIDHash',ascending=False)\n",
    "event_count['d2'] = event_count['DeviceIDHash'].shift(-1)\n",
    "event_count['ratio'] = ((event_count['d2']/event_count['DeviceIDHash'])*100).shift(1).round()\n",
    "event_count"
   ]
  },
  {
   "cell_type": "markdown",
   "id": "cf0672f6",
   "metadata": {},
   "source": [
    "pada bagian ini manganalisis jumlah rasio setiap proses dari satu ke selanjutnya terlihat dari awal proses rasionya semakin menurun karena tidak semua customer melakukan proses pemesanan makanan di aplikasi sampai selesai"
   ]
  },
  {
   "cell_type": "markdown",
   "id": "4ba419d2",
   "metadata": {},
   "source": [
    "# mempelajari hasil eksperimen"
   ]
  },
  {
   "cell_type": "code",
   "execution_count": 19,
   "id": "2242cb75",
   "metadata": {},
   "outputs": [
    {
     "data": {
      "text/plain": [
       "DeviceIDHash    2484\n",
       "Name: 246, dtype: int64"
      ]
     },
     "execution_count": 19,
     "metadata": {},
     "output_type": "execute_result"
    }
   ],
   "source": [
    "#menghitung jumla anggota masing masing kelompok uji\n",
    "total_user = df_filter.groupby('ExpId').agg({'DeviceIDHash':'nunique'})\n",
    "total_user.loc[246]"
   ]
  },
  {
   "cell_type": "markdown",
   "id": "ca45fb22",
   "metadata": {},
   "source": [
    "#### Kita memiliki dua kelompok kontrol dalam A/A testing, di mana kita memeriksa mekanisme dan perhitungan kita. Perhatikan apakah terdapat perbedaan yang signifikan secara statistik antara sampel 246 dan 247."
   ]
  },
  {
   "cell_type": "code",
   "execution_count": 20,
   "id": "09b31afa",
   "metadata": {},
   "outputs": [
    {
     "data": {
      "text/html": [
       "<div>\n",
       "<style scoped>\n",
       "    .dataframe tbody tr th:only-of-type {\n",
       "        vertical-align: middle;\n",
       "    }\n",
       "\n",
       "    .dataframe tbody tr th {\n",
       "        vertical-align: top;\n",
       "    }\n",
       "\n",
       "    .dataframe thead th {\n",
       "        text-align: right;\n",
       "    }\n",
       "</style>\n",
       "<table border=\"1\" class=\"dataframe\">\n",
       "  <thead>\n",
       "    <tr style=\"text-align: right;\">\n",
       "      <th>ExpId</th>\n",
       "      <th>246</th>\n",
       "      <th>247</th>\n",
       "      <th>248</th>\n",
       "    </tr>\n",
       "    <tr>\n",
       "      <th>EventName</th>\n",
       "      <th></th>\n",
       "      <th></th>\n",
       "      <th></th>\n",
       "    </tr>\n",
       "  </thead>\n",
       "  <tbody>\n",
       "    <tr>\n",
       "      <th>CartScreenAppear</th>\n",
       "      <td>1266</td>\n",
       "      <td>1238</td>\n",
       "      <td>1230</td>\n",
       "    </tr>\n",
       "    <tr>\n",
       "      <th>MainScreenAppear</th>\n",
       "      <td>2450</td>\n",
       "      <td>2476</td>\n",
       "      <td>2493</td>\n",
       "    </tr>\n",
       "    <tr>\n",
       "      <th>OffersScreenAppear</th>\n",
       "      <td>1542</td>\n",
       "      <td>1520</td>\n",
       "      <td>1531</td>\n",
       "    </tr>\n",
       "    <tr>\n",
       "      <th>PaymentScreenSuccessful</th>\n",
       "      <td>1200</td>\n",
       "      <td>1158</td>\n",
       "      <td>1181</td>\n",
       "    </tr>\n",
       "    <tr>\n",
       "      <th>Tutorial</th>\n",
       "      <td>278</td>\n",
       "      <td>283</td>\n",
       "      <td>279</td>\n",
       "    </tr>\n",
       "  </tbody>\n",
       "</table>\n",
       "</div>"
      ],
      "text/plain": [
       "ExpId                     246   247   248\n",
       "EventName                                \n",
       "CartScreenAppear         1266  1238  1230\n",
       "MainScreenAppear         2450  2476  2493\n",
       "OffersScreenAppear       1542  1520  1531\n",
       "PaymentScreenSuccessful  1200  1158  1181\n",
       "Tutorial                  278   283   279"
      ]
     },
     "execution_count": 20,
     "metadata": {},
     "output_type": "execute_result"
    }
   ],
   "source": [
    "user_per_event = df_filter.pivot_table(index='EventName',columns='ExpId',values='DeviceIDHash',aggfunc='nunique')\n",
    "user_per_event"
   ]
  },
  {
   "cell_type": "markdown",
   "id": "7c2b24e0",
   "metadata": {},
   "source": [
    "tidak ada perbedaan signifikan setiap event untuk kelompok uji"
   ]
  },
  {
   "cell_type": "code",
   "execution_count": 21,
   "id": "96d8859c",
   "metadata": {},
   "outputs": [],
   "source": [
    "def hipotesting(convert1,convert2,total1,total2,alpha = 0.05):\n",
    "    #succes rate kelompok 246\n",
    "    p1 = convert1/total1\n",
    "    #succes rate kelompok 247\n",
    "    p2 = convert2/total2\n",
    "    #combine succes rate\n",
    "    combine=(convert1+convert2)/(total1+total2)\n",
    "\n",
    "    difference = p1-p2\n",
    "\n",
    "    #calculating statistic standard deviasi distribusi normal\n",
    "    z_value = difference/mt.sqrt(combine*(1-combine) * (1/total1 + 1/total2))\n",
    "\n",
    "    #setting standart normal distribusion\n",
    "    distr = st.norm(0,1)\n",
    "\n",
    "    pvalue = (1-distr.cdf(abs(z_value))) *2\n",
    "    \n",
    "    print(pvalue)\n",
    "    \n",
    "    if (pvalue < alpha) :\n",
    "        print(\"menolak H0 : ada perbedaan signifikan antara 2 kelompok\")\n",
    "    else:\n",
    "        print(\"gagal menolak H0 : tidak ada perbedaan signifikan antara 2 kelompok\")\n"
   ]
  },
  {
   "cell_type": "markdown",
   "id": "8f671be2",
   "metadata": {},
   "source": [
    "fungsi yang digunakan untuk melakukan uji statistik apakah disetiap proses event untuk setiap kelompok yang dibandingkan ada perbedaan signifikan atau tidak"
   ]
  },
  {
   "cell_type": "code",
   "execution_count": 22,
   "id": "f3995a41",
   "metadata": {},
   "outputs": [
    {
     "name": "stdout",
     "output_type": "stream",
     "text": [
      "[0.75705972]\n",
      "gagal menolak H0 : tidak ada perbedaan signifikan antara 2 kelompok\n"
     ]
    }
   ],
   "source": [
    "#menguji untuk setiap event apakah ada perbedaan atau tidak untuk setiap kelompok\n",
    "hipotesting(user_per_event.loc['MainScreenAppear',246],\n",
    "            user_per_event.loc['MainScreenAppear',247],\n",
    "            total_user.loc[246],\n",
    "            total_user.loc[247]\n",
    "           )"
   ]
  },
  {
   "cell_type": "markdown",
   "id": "bb600328",
   "metadata": {},
   "source": [
    "#### Pilih peristiwa yang paling populer. Pada setiap kelompok kontrol, temukan jumlah pengguna yang melakukan tindakan tersebut. Temukan persentasenya. Periksa apakah perbedaan antar kelompok signifikan secara statistik dengan alpha 0.05"
   ]
  },
  {
   "cell_type": "code",
   "execution_count": 24,
   "id": "930674e8",
   "metadata": {},
   "outputs": [
    {
     "name": "stdout",
     "output_type": "stream",
     "text": [
      "DeviceIDHash    0.509662\n",
      "Name: 246, dtype: float64 with CartScreenAppearin group246\n",
      "DeviceIDHash    0.492638\n",
      "Name: 247, dtype: float64 with CartScreenAppearin group247\n",
      "[0.75705972]\n",
      "gagal menolak H0 : tidak ada perbedaan signifikan antara 2 kelompok\n",
      "\n",
      "DeviceIDHash    0.986312\n",
      "Name: 246, dtype: float64 with MainScreenAppearin group246\n",
      "DeviceIDHash    0.985277\n",
      "Name: 247, dtype: float64 with MainScreenAppearin group247\n",
      "[0.75705972]\n",
      "gagal menolak H0 : tidak ada perbedaan signifikan antara 2 kelompok\n",
      "\n",
      "DeviceIDHash    0.620773\n",
      "Name: 246, dtype: float64 with OffersScreenAppearin group246\n",
      "DeviceIDHash    0.604855\n",
      "Name: 247, dtype: float64 with OffersScreenAppearin group247\n",
      "[0.75705972]\n",
      "gagal menolak H0 : tidak ada perbedaan signifikan antara 2 kelompok\n",
      "\n",
      "DeviceIDHash    0.483092\n",
      "Name: 246, dtype: float64 with PaymentScreenSuccessfulin group246\n",
      "DeviceIDHash    0.460804\n",
      "Name: 247, dtype: float64 with PaymentScreenSuccessfulin group247\n",
      "[0.75705972]\n",
      "gagal menolak H0 : tidak ada perbedaan signifikan antara 2 kelompok\n",
      "\n",
      "DeviceIDHash    0.111916\n",
      "Name: 246, dtype: float64 with Tutorialin group246\n",
      "DeviceIDHash    0.112614\n",
      "Name: 247, dtype: float64 with Tutorialin group247\n",
      "[0.75705972]\n",
      "gagal menolak H0 : tidak ada perbedaan signifikan antara 2 kelompok\n",
      "\n"
     ]
    }
   ],
   "source": [
    "#menguji A/A testing untuk setiap peristiwa di kelompok 246 247\n",
    "for EventName in user_per_event.index:\n",
    "    popular_event(user_per_event,total_user,246,247,EventName)\n",
    "    \n",
    "    print()"
   ]
  },
  {
   "cell_type": "code",
   "execution_count": 25,
   "id": "7e38d2cc",
   "metadata": {},
   "outputs": [
    {
     "name": "stdout",
     "output_type": "stream",
     "text": [
      "DeviceIDHash    0.509662\n",
      "Name: 246, dtype: float64 with CartScreenAppearin group246\n",
      "DeviceIDHash    0.484825\n",
      "Name: 248, dtype: float64 with CartScreenAppearin group248\n",
      "[0.75705972]\n",
      "gagal menolak H0 : tidak ada perbedaan signifikan antara 2 kelompok\n",
      "\n",
      "DeviceIDHash    0.986312\n",
      "Name: 246, dtype: float64 with MainScreenAppearin group246\n",
      "DeviceIDHash    0.982657\n",
      "Name: 248, dtype: float64 with MainScreenAppearin group248\n",
      "[0.75705972]\n",
      "gagal menolak H0 : tidak ada perbedaan signifikan antara 2 kelompok\n",
      "\n",
      "DeviceIDHash    0.620773\n",
      "Name: 246, dtype: float64 with OffersScreenAppearin group246\n",
      "DeviceIDHash    0.603469\n",
      "Name: 248, dtype: float64 with OffersScreenAppearin group248\n",
      "[0.75705972]\n",
      "gagal menolak H0 : tidak ada perbedaan signifikan antara 2 kelompok\n",
      "\n",
      "DeviceIDHash    0.483092\n",
      "Name: 246, dtype: float64 with PaymentScreenSuccessfulin group246\n",
      "DeviceIDHash    0.46551\n",
      "Name: 248, dtype: float64 with PaymentScreenSuccessfulin group248\n",
      "[0.75705972]\n",
      "gagal menolak H0 : tidak ada perbedaan signifikan antara 2 kelompok\n",
      "\n",
      "DeviceIDHash    0.111916\n",
      "Name: 246, dtype: float64 with Tutorialin group246\n",
      "DeviceIDHash    0.109972\n",
      "Name: 248, dtype: float64 with Tutorialin group248\n",
      "[0.75705972]\n",
      "gagal menolak H0 : tidak ada perbedaan signifikan antara 2 kelompok\n",
      "\n"
     ]
    }
   ],
   "source": [
    "#menguji A/B testing untuk setiap peristiwa di kelompok 246 248\n",
    "for EventName in user_per_event.index:\n",
    "    popular_event(user_per_event,total_user,246,248,EventName)\n",
    "    \n",
    "    print()"
   ]
  },
  {
   "cell_type": "code",
   "execution_count": 26,
   "id": "a06d4d7d",
   "metadata": {},
   "outputs": [
    {
     "name": "stdout",
     "output_type": "stream",
     "text": [
      "DeviceIDHash    0.492638\n",
      "Name: 247, dtype: float64 with CartScreenAppearin group247\n",
      "DeviceIDHash    0.484825\n",
      "Name: 248, dtype: float64 with CartScreenAppearin group248\n",
      "[0.75705972]\n",
      "gagal menolak H0 : tidak ada perbedaan signifikan antara 2 kelompok\n",
      "\n",
      "DeviceIDHash    0.985277\n",
      "Name: 247, dtype: float64 with MainScreenAppearin group247\n",
      "DeviceIDHash    0.982657\n",
      "Name: 248, dtype: float64 with MainScreenAppearin group248\n",
      "[0.75705972]\n",
      "gagal menolak H0 : tidak ada perbedaan signifikan antara 2 kelompok\n",
      "\n",
      "DeviceIDHash    0.604855\n",
      "Name: 247, dtype: float64 with OffersScreenAppearin group247\n",
      "DeviceIDHash    0.603469\n",
      "Name: 248, dtype: float64 with OffersScreenAppearin group248\n",
      "[0.75705972]\n",
      "gagal menolak H0 : tidak ada perbedaan signifikan antara 2 kelompok\n",
      "\n",
      "DeviceIDHash    0.460804\n",
      "Name: 247, dtype: float64 with PaymentScreenSuccessfulin group247\n",
      "DeviceIDHash    0.46551\n",
      "Name: 248, dtype: float64 with PaymentScreenSuccessfulin group248\n",
      "[0.75705972]\n",
      "gagal menolak H0 : tidak ada perbedaan signifikan antara 2 kelompok\n",
      "\n",
      "DeviceIDHash    0.112614\n",
      "Name: 247, dtype: float64 with Tutorialin group247\n",
      "DeviceIDHash    0.109972\n",
      "Name: 248, dtype: float64 with Tutorialin group248\n",
      "[0.75705972]\n",
      "gagal menolak H0 : tidak ada perbedaan signifikan antara 2 kelompok\n",
      "\n"
     ]
    }
   ],
   "source": [
    "#menguji A/B testing untuk setiap peristiwa di kelompok 247 248\n",
    "for EventName in user_per_event.index:\n",
    "    popular_event(user_per_event,total_user,247,248,EventName)\n",
    "    \n",
    "    print()"
   ]
  },
  {
   "cell_type": "markdown",
   "id": "068e7576",
   "metadata": {},
   "source": [
    "#### Pilih peristiwa yang paling populer. Pada setiap kelompok kontrol, temukan jumlah pengguna yang melakukan tindakan tersebut. Temukan persentasenya. Periksa apakah perbedaan antar kelompok signifikan secara statistik dengan alpha 0.01"
   ]
  },
  {
   "cell_type": "code",
   "execution_count": 27,
   "id": "658a5875",
   "metadata": {},
   "outputs": [],
   "source": [
    "def hipotesting2(convert1,convert2,total1,total2,alpha = 0.01):\n",
    "    #succes rate kelompok 246\n",
    "    p1 = convert1/total1\n",
    "    #succes rate kelompok 247\n",
    "    p2 = convert2/total2\n",
    "    #combine succes rate\n",
    "    combine=(convert1+convert2)/(total1+total2)\n",
    "\n",
    "    difference = p1-p2\n",
    "\n",
    "    #calculating statistic standard deviasi distribusi normal\n",
    "    z_value = difference/mt.sqrt(combine*(1-combine) * (1/total1 + 1/total2))\n",
    "\n",
    "    #setting standart normal distribusion\n",
    "    distr = st.norm(0,1)\n",
    "\n",
    "    pvalue = (1-distr.cdf(abs(z_value))) *2\n",
    "    \n",
    "    print(pvalue)\n",
    "    \n",
    "    if (pvalue < alpha) :\n",
    "        print(\"menolak H0 : ada perbedaan signifikan antara 2 kelompok\")\n",
    "    else:\n",
    "        print(\"gagal menolak H0 : tidak ada perbedaan signifikan antara 2 kelompok\")\n"
   ]
  },
  {
   "cell_type": "code",
   "execution_count": 29,
   "id": "dd7bda7b",
   "metadata": {},
   "outputs": [],
   "source": [
    "def popular_event2(user_per_event,total_user,exp1,exp2,EventName):\n",
    "    grup1 = user_per_event.loc[EventName,exp1]/total_user.loc[exp1]\n",
    "    grup2 = user_per_event.loc[EventName,exp2]/total_user.loc[exp2]\n",
    "    print(f'{grup1} with {EventName}in group{exp1}')\n",
    "    print(f'{grup2} with {EventName}in group{exp2}')\n",
    "    hipotesting2(user_per_event.loc['MainScreenAppear',246],\n",
    "            user_per_event.loc['MainScreenAppear',247],\n",
    "            total_user.loc[246],\n",
    "            total_user.loc[247]\n",
    "               )"
   ]
  },
  {
   "cell_type": "code",
   "execution_count": 30,
   "id": "fdc0d9fd",
   "metadata": {},
   "outputs": [
    {
     "name": "stdout",
     "output_type": "stream",
     "text": [
      "DeviceIDHash    0.509662\n",
      "Name: 246, dtype: float64 with CartScreenAppearin group246\n",
      "DeviceIDHash    0.492638\n",
      "Name: 247, dtype: float64 with CartScreenAppearin group247\n",
      "[0.75705972]\n",
      "gagal menolak H0 : tidak ada perbedaan signifikan antara 2 kelompok\n",
      "\n",
      "DeviceIDHash    0.986312\n",
      "Name: 246, dtype: float64 with MainScreenAppearin group246\n",
      "DeviceIDHash    0.985277\n",
      "Name: 247, dtype: float64 with MainScreenAppearin group247\n",
      "[0.75705972]\n",
      "gagal menolak H0 : tidak ada perbedaan signifikan antara 2 kelompok\n",
      "\n",
      "DeviceIDHash    0.620773\n",
      "Name: 246, dtype: float64 with OffersScreenAppearin group246\n",
      "DeviceIDHash    0.604855\n",
      "Name: 247, dtype: float64 with OffersScreenAppearin group247\n",
      "[0.75705972]\n",
      "gagal menolak H0 : tidak ada perbedaan signifikan antara 2 kelompok\n",
      "\n",
      "DeviceIDHash    0.483092\n",
      "Name: 246, dtype: float64 with PaymentScreenSuccessfulin group246\n",
      "DeviceIDHash    0.460804\n",
      "Name: 247, dtype: float64 with PaymentScreenSuccessfulin group247\n",
      "[0.75705972]\n",
      "gagal menolak H0 : tidak ada perbedaan signifikan antara 2 kelompok\n",
      "\n",
      "DeviceIDHash    0.111916\n",
      "Name: 246, dtype: float64 with Tutorialin group246\n",
      "DeviceIDHash    0.112614\n",
      "Name: 247, dtype: float64 with Tutorialin group247\n",
      "[0.75705972]\n",
      "gagal menolak H0 : tidak ada perbedaan signifikan antara 2 kelompok\n",
      "\n"
     ]
    }
   ],
   "source": [
    "#menguji A/A testing untuk setiap peristiwa di kelompok 246 247\n",
    "for EventName in user_per_event.index:\n",
    "    popular_event2(user_per_event,total_user,246,247,EventName)\n",
    "    \n",
    "    print()"
   ]
  },
  {
   "cell_type": "code",
   "execution_count": 33,
   "id": "c94c157a",
   "metadata": {},
   "outputs": [
    {
     "name": "stdout",
     "output_type": "stream",
     "text": [
      "DeviceIDHash    0.492638\n",
      "Name: 247, dtype: float64 with CartScreenAppearin group247\n",
      "DeviceIDHash    0.484825\n",
      "Name: 248, dtype: float64 with CartScreenAppearin group248\n",
      "[0.75705972]\n",
      "gagal menolak H0 : tidak ada perbedaan signifikan antara 2 kelompok\n",
      "\n",
      "DeviceIDHash    0.985277\n",
      "Name: 247, dtype: float64 with MainScreenAppearin group247\n",
      "DeviceIDHash    0.982657\n",
      "Name: 248, dtype: float64 with MainScreenAppearin group248\n",
      "[0.75705972]\n",
      "gagal menolak H0 : tidak ada perbedaan signifikan antara 2 kelompok\n",
      "\n",
      "DeviceIDHash    0.604855\n",
      "Name: 247, dtype: float64 with OffersScreenAppearin group247\n",
      "DeviceIDHash    0.603469\n",
      "Name: 248, dtype: float64 with OffersScreenAppearin group248\n",
      "[0.75705972]\n",
      "gagal menolak H0 : tidak ada perbedaan signifikan antara 2 kelompok\n",
      "\n",
      "DeviceIDHash    0.460804\n",
      "Name: 247, dtype: float64 with PaymentScreenSuccessfulin group247\n",
      "DeviceIDHash    0.46551\n",
      "Name: 248, dtype: float64 with PaymentScreenSuccessfulin group248\n",
      "[0.75705972]\n",
      "gagal menolak H0 : tidak ada perbedaan signifikan antara 2 kelompok\n",
      "\n",
      "DeviceIDHash    0.112614\n",
      "Name: 247, dtype: float64 with Tutorialin group247\n",
      "DeviceIDHash    0.109972\n",
      "Name: 248, dtype: float64 with Tutorialin group248\n",
      "[0.75705972]\n",
      "gagal menolak H0 : tidak ada perbedaan signifikan antara 2 kelompok\n",
      "\n"
     ]
    }
   ],
   "source": [
    "#menguji A/B testing untuk setiap peristiwa di kelompok 246 248\n",
    "for EventName in user_per_event.index:\n",
    "    popular_event2(user_per_event,total_user,247,248,EventName)\n",
    "    \n",
    "    print()"
   ]
  },
  {
   "cell_type": "code",
   "execution_count": 32,
   "id": "e7015b24",
   "metadata": {},
   "outputs": [
    {
     "name": "stdout",
     "output_type": "stream",
     "text": [
      "DeviceIDHash    0.492638\n",
      "Name: 247, dtype: float64 with CartScreenAppearin group247\n",
      "DeviceIDHash    0.484825\n",
      "Name: 248, dtype: float64 with CartScreenAppearin group248\n",
      "[0.75705972]\n",
      "gagal menolak H0 : tidak ada perbedaan signifikan antara 2 kelompok\n",
      "\n",
      "DeviceIDHash    0.985277\n",
      "Name: 247, dtype: float64 with MainScreenAppearin group247\n",
      "DeviceIDHash    0.982657\n",
      "Name: 248, dtype: float64 with MainScreenAppearin group248\n",
      "[0.75705972]\n",
      "gagal menolak H0 : tidak ada perbedaan signifikan antara 2 kelompok\n",
      "\n",
      "DeviceIDHash    0.604855\n",
      "Name: 247, dtype: float64 with OffersScreenAppearin group247\n",
      "DeviceIDHash    0.603469\n",
      "Name: 248, dtype: float64 with OffersScreenAppearin group248\n",
      "[0.75705972]\n",
      "gagal menolak H0 : tidak ada perbedaan signifikan antara 2 kelompok\n",
      "\n",
      "DeviceIDHash    0.460804\n",
      "Name: 247, dtype: float64 with PaymentScreenSuccessfulin group247\n",
      "DeviceIDHash    0.46551\n",
      "Name: 248, dtype: float64 with PaymentScreenSuccessfulin group248\n",
      "[0.75705972]\n",
      "gagal menolak H0 : tidak ada perbedaan signifikan antara 2 kelompok\n",
      "\n",
      "DeviceIDHash    0.112614\n",
      "Name: 247, dtype: float64 with Tutorialin group247\n",
      "DeviceIDHash    0.109972\n",
      "Name: 248, dtype: float64 with Tutorialin group248\n",
      "[0.75705972]\n",
      "gagal menolak H0 : tidak ada perbedaan signifikan antara 2 kelompok\n",
      "\n"
     ]
    }
   ],
   "source": [
    "#menguji A/B testing untuk setiap peristiwa di kelompok 247 248\n",
    "for EventName in user_per_event.index:\n",
    "    popular_event2(user_per_event,total_user,247,248,EventName)\n",
    "    \n",
    "    print()"
   ]
  },
  {
   "cell_type": "markdown",
   "id": "6219b276",
   "metadata": {},
   "source": [
    "# Kesimpulan \n",
    "\n",
    "kesimpulan dari testing ini adalah untuk setiap event dalam log data baik kelompok uji 248 dan kelompok kontrol 246 dan 247 tidak ada perbedaan signifikan untuk setiap peristiwa, jadi artinya penyebaran user untuk setiap kelompok tidak bebeda jauh dan untuk setip user per-event jumlahnya juga tidak ada perbedaan signifikan, artinya penyebaran usernya merata baik untuk setiap kelompok uji maupun penyebaran user per-event pada setiap kelompok uji, hasilnya sudah diuji menggunakan distribusi kumulatif walaupun kita menggunakan data yang dari periode 01-08-2019 keatas (tidak semua data) saya rasa hasilnya akan sama saja jika kita menggunakan seluruh data dari awal periode, karena diawal periode datanya tidak terlalu banyak bedanya juga tidak terlalu banyak antara jumlah data dari periode 01-08-2019 yang jumlahnya 240ribuan dibanding dengan seluruh data dari awal periode yang jumlahnya 243ribuan dan bisa dikatakan perilaku pengguna dari masing masing kelompok 246,247,248 perilakunya hampir sama dengan melihat dari corong peristiwa juga bisa dikatakan perilakuknya sama yaitu banyak pengguna pada event MainScreenAppear lalu seiring berjalannya event ke OffersScreenAppear usernya turun artinya lebih sedikit yang menjalankan event ini dan selanjutnya pun sama untuk event CartScreenAppear\t,PaymentScreenSuccessful, Tutorial\tyang jumlahnya semakin mengerucut/mengecil seperti corong, ini berlaku untuk semua kelompok baik 246,247,248"
   ]
  }
 ],
 "metadata": {
  "kernelspec": {
   "display_name": "Python 3 (ipykernel)",
   "language": "python",
   "name": "python3"
  },
  "language_info": {
   "codemirror_mode": {
    "name": "ipython",
    "version": 3
   },
   "file_extension": ".py",
   "mimetype": "text/x-python",
   "name": "python",
   "nbconvert_exporter": "python",
   "pygments_lexer": "ipython3",
   "version": "3.9.13"
  }
 },
 "nbformat": 4,
 "nbformat_minor": 5
}
