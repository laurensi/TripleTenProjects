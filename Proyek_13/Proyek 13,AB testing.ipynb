{
 "cells": [
  {
   "cell_type": "markdown",
   "metadata": {},
   "source": [
    "Pada tahapan kali ini saya ingin melakukan A/B testing untuk melihat adakan perbedaan signifikan antara 2 kelompok yaitu Kelompok: А (kontrol), B (corong pembayaran yang baru), dengan tujuan melihat perubahan terkait pengenalan sistem rekomendasi yang telah ditingkatkan, tujuannya melihat apakah ada perbedaan pengunjung yang signifikan sebelum nantinya di buat keputusan apakah memnggunakan corong pembayaran yang baru atau tidak. Ini suatu tahapan yang penting dilakukan karena akan menguji pelanggan yang ada di website kita apakah nyaman menggunakan sistem baru atau menggunakan sistem yang lama, ini dilihat dari jumlah total user_id(pengunjung) yang mengunjungi dan menggunakan sistem yang telah dibagi 2 kelompok, jika ada perbedaan yang signigikan antara 2 kelompok bisa dikatkan ada kelompok yang pengunjungnya nyaman menggunakan suatu sistem dan satunya tidak, jika perbedaan tidak signigikan artinya kebiasaan atau tingkat kenyamanan pengguna dalam 2 kelompok di suatu website dikatakan tidak berbeda jauh atau relatif sama.\n",
    "\n",
    "Untuk core data penting yang saya pakai untuk analisis adalah new_user_event disini terlihat user baru yang melakukan aktivitas apa saja atau melakukan event apa saja, nantinya tidak semua data ini saya gunakan. Saya akan menggunakan data user yang mendaftar sebelum 22 desember 2020, karena website ini berhenti menerima pendaftar baru saat 21 desember 2020. Lalu untuk melakukan uji A/B test user_id baru ini dibagi menjadi 2 kelompok yang datanya sudah ada di test_participant karena tidak semua user_id di dataset new_user_event berpartisipasi dan untuk pembagian kelompok A atau kelompok B sudah tertera di dataset test_participant, dan saya nantinya akan menggabunggkan 2 data set ini (new_user_event dan test_participant) untuk melihat user_id mana yang akan ikut testing perubahan terkait pengenalan sistem rekomendasi yang telah ditingkatkan, langkah analisanya saya akan melihat tipe datanya apakah sudah sesuai atau belum untuk dianalisa,jika belum saya akan menggantinya setelah itu akan menghilangkan nilai NaN dan nilai duplikat. Setelah proses eskplorasi data selesai saya mulai masuk ke tujuan utama A/B testing yang pertama dilakukan adalah melihat corong total pengguna yang melakukan event dalam toko daring ini, setelah itu membagi berdasarkan event yang dilakukan oleh user_id tujuannya untuk melihat event yang dilakukan ada berapa user_id yang melakukannya. Setelah itu semua dilakukan saya menggunakan data user yang melakukan eksperiment \"recommender_system_test\" dan setelah itu melihat apakah ada user_id yang tergabung dalam kelompok uji lebih dari 1 di waktu yang sama (tergabung dalam grup A dan B sekaligus) jika ada maka tidak akan diikutkan test, setelah data siap mulai melakukan A/B testing, yang pertama saya lihat nanti adalah perbandingn rata-rata per-event yang dilakukan oleh user_id yang berada di kelompok A dan B untuk melihat dari sejumlah user_id yang berpartisipasi test yang telah dibagi ke kelompok A dan B untuk masing masing event yang ada di sini berapa persentasenya. Setelah itu saya melakukan z-test untuk melihat apakah ada perbedaan signigikan antara user yang melakukan event di kelompok A dan kelompok B untuk melihat perilaku mereka\n"
   ]
  },
  {
   "cell_type": "markdown",
   "metadata": {},
   "source": [
    "## Eksplorasi data"
   ]
  },
  {
   "cell_type": "markdown",
   "metadata": {},
   "source": [
    "### Konversi data"
   ]
  },
  {
   "cell_type": "code",
   "execution_count": 1,
   "metadata": {},
   "outputs": [],
   "source": [
    "import pandas as pd\n",
    "import numpy as np\n",
    "from scipy import stats as st\n",
    "import math as mt"
   ]
  },
  {
   "cell_type": "markdown",
   "metadata": {},
   "source": [
    "Memasukkan library yang diperlukan"
   ]
  },
  {
   "cell_type": "code",
   "execution_count": 2,
   "metadata": {},
   "outputs": [],
   "source": [
    "calendar_events = pd.read_csv('/datasets/ab_project_marketing_events_us.csv')\n",
    "user_sign_up = pd.read_csv('/datasets/final_ab_new_users_upd_us.csv')\n",
    "new_user_event = pd.read_csv('/datasets/final_ab_events_upd_us.csv')\n",
    "test_participant = pd.read_csv('/datasets/final_ab_participants_upd_us.csv')"
   ]
  },
  {
   "cell_type": "markdown",
   "metadata": {},
   "source": [
    "Memuat Data Set yang diperlukan"
   ]
  },
  {
   "cell_type": "code",
   "execution_count": 3,
   "metadata": {},
   "outputs": [
    {
     "name": "stdout",
     "output_type": "stream",
     "text": [
      "<class 'pandas.core.frame.DataFrame'>\n",
      "RangeIndex: 14 entries, 0 to 13\n",
      "Data columns (total 4 columns):\n",
      " #   Column     Non-Null Count  Dtype \n",
      "---  ------     --------------  ----- \n",
      " 0   name       14 non-null     object\n",
      " 1   regions    14 non-null     object\n",
      " 2   start_dt   14 non-null     object\n",
      " 3   finish_dt  14 non-null     object\n",
      "dtypes: object(4)\n",
      "memory usage: 576.0+ bytes\n"
     ]
    }
   ],
   "source": [
    "calendar_events.info()"
   ]
  },
  {
   "cell_type": "code",
   "execution_count": 4,
   "metadata": {},
   "outputs": [],
   "source": [
    "calendar_events['start_dt'] = pd.to_datetime(calendar_events['start_dt'])\n",
    "calendar_events['finish_dt'] = pd.to_datetime(calendar_events['finish_dt'])"
   ]
  },
  {
   "cell_type": "markdown",
   "metadata": {},
   "source": [
    "melihat tipe data dan mengecek apakah ada nilai yang hilang pada dataset calendar_events, lalu disini saya mengubah tipe data pada columns start_dt dan finish_dt karena tipe datanya kurang tepat, saya mengubah tipe datanya menjadi datetime agar nantinya bisa dilakukan operasi penanggalan pada 2 column data tersebut"
   ]
  },
  {
   "cell_type": "code",
   "execution_count": 5,
   "metadata": {},
   "outputs": [
    {
     "name": "stdout",
     "output_type": "stream",
     "text": [
      "<class 'pandas.core.frame.DataFrame'>\n",
      "RangeIndex: 58703 entries, 0 to 58702\n",
      "Data columns (total 4 columns):\n",
      " #   Column      Non-Null Count  Dtype \n",
      "---  ------      --------------  ----- \n",
      " 0   user_id     58703 non-null  object\n",
      " 1   first_date  58703 non-null  object\n",
      " 2   region      58703 non-null  object\n",
      " 3   device      58703 non-null  object\n",
      "dtypes: object(4)\n",
      "memory usage: 1.8+ MB\n"
     ]
    }
   ],
   "source": [
    "user_sign_up.info()"
   ]
  },
  {
   "cell_type": "code",
   "execution_count": 6,
   "metadata": {},
   "outputs": [],
   "source": [
    "user_sign_up['first_date'] = pd.to_datetime(user_sign_up['first_date'])"
   ]
  },
  {
   "cell_type": "markdown",
   "metadata": {},
   "source": [
    "melihat tipe data dan mengecek apakah ada nilai null pada dataset user_sign_up dan saya mengubah tipe data pada data first date menjadi tipe date time"
   ]
  },
  {
   "cell_type": "code",
   "execution_count": 7,
   "metadata": {},
   "outputs": [
    {
     "name": "stdout",
     "output_type": "stream",
     "text": [
      "<class 'pandas.core.frame.DataFrame'>\n",
      "RangeIndex: 423761 entries, 0 to 423760\n",
      "Data columns (total 4 columns):\n",
      " #   Column      Non-Null Count   Dtype  \n",
      "---  ------      --------------   -----  \n",
      " 0   user_id     423761 non-null  object \n",
      " 1   event_dt    423761 non-null  object \n",
      " 2   event_name  423761 non-null  object \n",
      " 3   details     60314 non-null   float64\n",
      "dtypes: float64(1), object(3)\n",
      "memory usage: 12.9+ MB\n"
     ]
    }
   ],
   "source": [
    "new_user_event.info()"
   ]
  },
  {
   "cell_type": "code",
   "execution_count": 8,
   "metadata": {},
   "outputs": [],
   "source": [
    "new_user_event['event_dt'] = pd.to_datetime(new_user_event['event_dt'] )"
   ]
  },
  {
   "cell_type": "code",
   "execution_count": 9,
   "metadata": {},
   "outputs": [],
   "source": [
    "new_user_event['details']=new_user_event['details'].fillna(value='none')"
   ]
  },
  {
   "cell_type": "code",
   "execution_count": 10,
   "metadata": {},
   "outputs": [
    {
     "data": {
      "text/html": [
       "<div>\n",
       "<style scoped>\n",
       "    .dataframe tbody tr th:only-of-type {\n",
       "        vertical-align: middle;\n",
       "    }\n",
       "\n",
       "    .dataframe tbody tr th {\n",
       "        vertical-align: top;\n",
       "    }\n",
       "\n",
       "    .dataframe thead th {\n",
       "        text-align: right;\n",
       "    }\n",
       "</style>\n",
       "<table border=\"1\" class=\"dataframe\">\n",
       "  <thead>\n",
       "    <tr style=\"text-align: right;\">\n",
       "      <th></th>\n",
       "      <th>user_id</th>\n",
       "      <th>event_dt</th>\n",
       "      <th>event_name</th>\n",
       "      <th>details</th>\n",
       "      <th>date</th>\n",
       "    </tr>\n",
       "  </thead>\n",
       "  <tbody>\n",
       "    <tr>\n",
       "      <th>0</th>\n",
       "      <td>E1BDDCE0DAFA2679</td>\n",
       "      <td>2020-12-07 20:22:03</td>\n",
       "      <td>purchase</td>\n",
       "      <td>99.99</td>\n",
       "      <td>2020-12-07</td>\n",
       "    </tr>\n",
       "    <tr>\n",
       "      <th>1</th>\n",
       "      <td>7B6452F081F49504</td>\n",
       "      <td>2020-12-07 09:22:53</td>\n",
       "      <td>purchase</td>\n",
       "      <td>9.99</td>\n",
       "      <td>2020-12-07</td>\n",
       "    </tr>\n",
       "    <tr>\n",
       "      <th>2</th>\n",
       "      <td>9CD9F34546DF254C</td>\n",
       "      <td>2020-12-07 12:59:29</td>\n",
       "      <td>purchase</td>\n",
       "      <td>4.99</td>\n",
       "      <td>2020-12-07</td>\n",
       "    </tr>\n",
       "    <tr>\n",
       "      <th>3</th>\n",
       "      <td>96F27A054B191457</td>\n",
       "      <td>2020-12-07 04:02:40</td>\n",
       "      <td>purchase</td>\n",
       "      <td>4.99</td>\n",
       "      <td>2020-12-07</td>\n",
       "    </tr>\n",
       "    <tr>\n",
       "      <th>4</th>\n",
       "      <td>1FD7660FDF94CA1F</td>\n",
       "      <td>2020-12-07 10:15:09</td>\n",
       "      <td>purchase</td>\n",
       "      <td>4.99</td>\n",
       "      <td>2020-12-07</td>\n",
       "    </tr>\n",
       "    <tr>\n",
       "      <th>...</th>\n",
       "      <td>...</td>\n",
       "      <td>...</td>\n",
       "      <td>...</td>\n",
       "      <td>...</td>\n",
       "      <td>...</td>\n",
       "    </tr>\n",
       "    <tr>\n",
       "      <th>423756</th>\n",
       "      <td>245E85F65C358E08</td>\n",
       "      <td>2020-12-30 19:35:55</td>\n",
       "      <td>login</td>\n",
       "      <td>none</td>\n",
       "      <td>2020-12-30</td>\n",
       "    </tr>\n",
       "    <tr>\n",
       "      <th>423757</th>\n",
       "      <td>9385A108F5A0A7A7</td>\n",
       "      <td>2020-12-30 10:54:15</td>\n",
       "      <td>login</td>\n",
       "      <td>none</td>\n",
       "      <td>2020-12-30</td>\n",
       "    </tr>\n",
       "    <tr>\n",
       "      <th>423758</th>\n",
       "      <td>DB650B7559AC6EAC</td>\n",
       "      <td>2020-12-30 10:59:09</td>\n",
       "      <td>login</td>\n",
       "      <td>none</td>\n",
       "      <td>2020-12-30</td>\n",
       "    </tr>\n",
       "    <tr>\n",
       "      <th>423759</th>\n",
       "      <td>F80C9BDDEA02E53C</td>\n",
       "      <td>2020-12-30 09:53:39</td>\n",
       "      <td>login</td>\n",
       "      <td>none</td>\n",
       "      <td>2020-12-30</td>\n",
       "    </tr>\n",
       "    <tr>\n",
       "      <th>423760</th>\n",
       "      <td>7AEC61159B672CC5</td>\n",
       "      <td>2020-12-30 11:36:13</td>\n",
       "      <td>login</td>\n",
       "      <td>none</td>\n",
       "      <td>2020-12-30</td>\n",
       "    </tr>\n",
       "  </tbody>\n",
       "</table>\n",
       "<p>423761 rows × 5 columns</p>\n",
       "</div>"
      ],
      "text/plain": [
       "                 user_id            event_dt event_name details       date\n",
       "0       E1BDDCE0DAFA2679 2020-12-07 20:22:03   purchase   99.99 2020-12-07\n",
       "1       7B6452F081F49504 2020-12-07 09:22:53   purchase    9.99 2020-12-07\n",
       "2       9CD9F34546DF254C 2020-12-07 12:59:29   purchase    4.99 2020-12-07\n",
       "3       96F27A054B191457 2020-12-07 04:02:40   purchase    4.99 2020-12-07\n",
       "4       1FD7660FDF94CA1F 2020-12-07 10:15:09   purchase    4.99 2020-12-07\n",
       "...                  ...                 ...        ...     ...        ...\n",
       "423756  245E85F65C358E08 2020-12-30 19:35:55      login    none 2020-12-30\n",
       "423757  9385A108F5A0A7A7 2020-12-30 10:54:15      login    none 2020-12-30\n",
       "423758  DB650B7559AC6EAC 2020-12-30 10:59:09      login    none 2020-12-30\n",
       "423759  F80C9BDDEA02E53C 2020-12-30 09:53:39      login    none 2020-12-30\n",
       "423760  7AEC61159B672CC5 2020-12-30 11:36:13      login    none 2020-12-30\n",
       "\n",
       "[423761 rows x 5 columns]"
      ]
     },
     "execution_count": 10,
     "metadata": {},
     "output_type": "execute_result"
    }
   ],
   "source": [
    "new_user_event['date'] = new_user_event['event_dt'].dt.date \n",
    "new_user_event['date'] = pd.to_datetime(new_user_event['date'])\n",
    "new_user_event"
   ]
  },
  {
   "cell_type": "markdown",
   "metadata": {},
   "source": [
    "melihat tipe data dan mengecek apakah ada nilai yang hilang pada tipe data new_user_event, dataset ini berisi pengguna baru yang melakukan event dan waktu melakukan eventnya, untuk detail adalah detail event yang pelanggan itu lakukan, disini teradapat nilai yang hilang pada detail, detail ini menjelaskan data tambahan misalnya jika pelanggan itu melakukan purchase harga yang dikeluarkan berapa, karena selain peristiwa lain selain purchase dianggap tidak perlu detail tambahan maka nilainya tidak ada maka disini saya menggantinya dengan 'none', maksudnya karena tidak perlu informasi tambahan. Pada tipe data saya ganti yang menjelaskan tanggal pembelian menjadi datetime, lalu saya menambahkan kolom baru yaitu date, column ini berisi tanggal saja tanpa detail waktu event yang pelanggan itu lakukan"
   ]
  },
  {
   "cell_type": "markdown",
   "metadata": {},
   "source": [
    "### Mengecek duplikasi data"
   ]
  },
  {
   "cell_type": "code",
   "execution_count": 11,
   "metadata": {},
   "outputs": [
    {
     "data": {
      "text/plain": [
       "0"
      ]
     },
     "execution_count": 11,
     "metadata": {},
     "output_type": "execute_result"
    }
   ],
   "source": [
    "new_user_event.duplicated().sum()"
   ]
  },
  {
   "cell_type": "code",
   "execution_count": 12,
   "metadata": {},
   "outputs": [
    {
     "data": {
      "text/plain": [
       "0"
      ]
     },
     "execution_count": 12,
     "metadata": {},
     "output_type": "execute_result"
    }
   ],
   "source": [
    "calendar_events.duplicated().sum()"
   ]
  },
  {
   "cell_type": "code",
   "execution_count": 13,
   "metadata": {},
   "outputs": [
    {
     "data": {
      "text/plain": [
       "0"
      ]
     },
     "execution_count": 13,
     "metadata": {},
     "output_type": "execute_result"
    }
   ],
   "source": [
    "user_sign_up.duplicated().sum()"
   ]
  },
  {
   "cell_type": "code",
   "execution_count": 14,
   "metadata": {},
   "outputs": [
    {
     "data": {
      "text/plain": [
       "0"
      ]
     },
     "execution_count": 14,
     "metadata": {},
     "output_type": "execute_result"
    }
   ],
   "source": [
    "test_participant.duplicated().sum()"
   ]
  },
  {
   "cell_type": "markdown",
   "metadata": {},
   "source": [
    "mengecek apakah ada duplikasi data pada dataset yang dimuat dan hasilnya tidak ada data yang duplikat"
   ]
  },
  {
   "cell_type": "markdown",
   "metadata": {},
   "source": [
    "## analisis data eksploratif"
   ]
  },
  {
   "cell_type": "code",
   "execution_count": 15,
   "metadata": {},
   "outputs": [
    {
     "data": {
      "text/plain": [
       "array(['purchase', 'product_cart', 'product_page', 'login'], dtype=object)"
      ]
     },
     "execution_count": 15,
     "metadata": {},
     "output_type": "execute_result"
    }
   ],
   "source": [
    "new_user_event['event_name'].unique()"
   ]
  },
  {
   "cell_type": "markdown",
   "metadata": {},
   "source": [
    "melihat peristiwa apa saja yang ada pada data set"
   ]
  },
  {
   "cell_type": "code",
   "execution_count": 16,
   "metadata": {},
   "outputs": [],
   "source": [
    "filtered_user = new_user_event[new_user_event['date']<= '2020-12-21']"
   ]
  },
  {
   "cell_type": "markdown",
   "metadata": {},
   "source": [
    "disini saya melakukan pembatasan penggunaan data, saya menggunakan data pelanggan yang mendaftar sebelum 22 desember karena disini website berhenti menerima pengguna baru pada  21-12-2020, jadi setelah tanggal tersebut datanya tidak terpakai"
   ]
  },
  {
   "cell_type": "markdown",
   "metadata": {},
   "source": [
    "### Konversi di berbagai tahapan corong"
   ]
  },
  {
   "cell_type": "code",
   "execution_count": 17,
   "metadata": {},
   "outputs": [
    {
     "data": {
      "text/html": [
       "<div>\n",
       "<style scoped>\n",
       "    .dataframe tbody tr th:only-of-type {\n",
       "        vertical-align: middle;\n",
       "    }\n",
       "\n",
       "    .dataframe tbody tr th {\n",
       "        vertical-align: top;\n",
       "    }\n",
       "\n",
       "    .dataframe thead th {\n",
       "        text-align: right;\n",
       "    }\n",
       "</style>\n",
       "<table border=\"1\" class=\"dataframe\">\n",
       "  <thead>\n",
       "    <tr style=\"text-align: right;\">\n",
       "      <th></th>\n",
       "      <th>user_id</th>\n",
       "      <th>event_dt</th>\n",
       "      <th>event_name</th>\n",
       "      <th>details</th>\n",
       "      <th>date</th>\n",
       "      <th>group</th>\n",
       "      <th>ab_test</th>\n",
       "    </tr>\n",
       "  </thead>\n",
       "  <tbody>\n",
       "    <tr>\n",
       "      <th>9</th>\n",
       "      <td>831887FE7F2D6CBA</td>\n",
       "      <td>2020-12-07 06:50:29</td>\n",
       "      <td>purchase</td>\n",
       "      <td>4.99</td>\n",
       "      <td>2020-12-07</td>\n",
       "      <td>A</td>\n",
       "      <td>recommender_system_test</td>\n",
       "    </tr>\n",
       "    <tr>\n",
       "      <th>10</th>\n",
       "      <td>831887FE7F2D6CBA</td>\n",
       "      <td>2020-12-09 02:19:17</td>\n",
       "      <td>purchase</td>\n",
       "      <td>99.99</td>\n",
       "      <td>2020-12-09</td>\n",
       "      <td>A</td>\n",
       "      <td>recommender_system_test</td>\n",
       "    </tr>\n",
       "    <tr>\n",
       "      <th>11</th>\n",
       "      <td>831887FE7F2D6CBA</td>\n",
       "      <td>2020-12-07 06:50:30</td>\n",
       "      <td>product_cart</td>\n",
       "      <td>none</td>\n",
       "      <td>2020-12-07</td>\n",
       "      <td>A</td>\n",
       "      <td>recommender_system_test</td>\n",
       "    </tr>\n",
       "    <tr>\n",
       "      <th>12</th>\n",
       "      <td>831887FE7F2D6CBA</td>\n",
       "      <td>2020-12-08 10:52:27</td>\n",
       "      <td>product_cart</td>\n",
       "      <td>none</td>\n",
       "      <td>2020-12-08</td>\n",
       "      <td>A</td>\n",
       "      <td>recommender_system_test</td>\n",
       "    </tr>\n",
       "    <tr>\n",
       "      <th>13</th>\n",
       "      <td>831887FE7F2D6CBA</td>\n",
       "      <td>2020-12-09 02:19:17</td>\n",
       "      <td>product_cart</td>\n",
       "      <td>none</td>\n",
       "      <td>2020-12-09</td>\n",
       "      <td>A</td>\n",
       "      <td>recommender_system_test</td>\n",
       "    </tr>\n",
       "    <tr>\n",
       "      <th>...</th>\n",
       "      <td>...</td>\n",
       "      <td>...</td>\n",
       "      <td>...</td>\n",
       "      <td>...</td>\n",
       "      <td>...</td>\n",
       "      <td>...</td>\n",
       "      <td>...</td>\n",
       "    </tr>\n",
       "    <tr>\n",
       "      <th>73655</th>\n",
       "      <td>928364C4C9F13FA8</td>\n",
       "      <td>2020-12-21 17:17:34</td>\n",
       "      <td>login</td>\n",
       "      <td>none</td>\n",
       "      <td>2020-12-21</td>\n",
       "      <td>B</td>\n",
       "      <td>recommender_system_test</td>\n",
       "    </tr>\n",
       "    <tr>\n",
       "      <th>73658</th>\n",
       "      <td>1484BBF124DB1B18</td>\n",
       "      <td>2020-12-21 17:51:44</td>\n",
       "      <td>login</td>\n",
       "      <td>none</td>\n",
       "      <td>2020-12-21</td>\n",
       "      <td>A</td>\n",
       "      <td>recommender_system_test</td>\n",
       "    </tr>\n",
       "    <tr>\n",
       "      <th>73660</th>\n",
       "      <td>BEF16764A13AEC34</td>\n",
       "      <td>2020-12-21 03:49:49</td>\n",
       "      <td>login</td>\n",
       "      <td>none</td>\n",
       "      <td>2020-12-21</td>\n",
       "      <td>B</td>\n",
       "      <td>recommender_system_test</td>\n",
       "    </tr>\n",
       "    <tr>\n",
       "      <th>73662</th>\n",
       "      <td>1E6B9298415AA97A</td>\n",
       "      <td>2020-12-21 18:20:12</td>\n",
       "      <td>login</td>\n",
       "      <td>none</td>\n",
       "      <td>2020-12-21</td>\n",
       "      <td>B</td>\n",
       "      <td>recommender_system_test</td>\n",
       "    </tr>\n",
       "    <tr>\n",
       "      <th>73664</th>\n",
       "      <td>23DDD27AC3FEFA63</td>\n",
       "      <td>2020-12-21 02:51:45</td>\n",
       "      <td>login</td>\n",
       "      <td>none</td>\n",
       "      <td>2020-12-21</td>\n",
       "      <td>A</td>\n",
       "      <td>recommender_system_test</td>\n",
       "    </tr>\n",
       "  </tbody>\n",
       "</table>\n",
       "<p>17621 rows × 7 columns</p>\n",
       "</div>"
      ],
      "text/plain": [
       "                user_id            event_dt    event_name details       date  \\\n",
       "9      831887FE7F2D6CBA 2020-12-07 06:50:29      purchase    4.99 2020-12-07   \n",
       "10     831887FE7F2D6CBA 2020-12-09 02:19:17      purchase   99.99 2020-12-09   \n",
       "11     831887FE7F2D6CBA 2020-12-07 06:50:30  product_cart    none 2020-12-07   \n",
       "12     831887FE7F2D6CBA 2020-12-08 10:52:27  product_cart    none 2020-12-08   \n",
       "13     831887FE7F2D6CBA 2020-12-09 02:19:17  product_cart    none 2020-12-09   \n",
       "...                 ...                 ...           ...     ...        ...   \n",
       "73655  928364C4C9F13FA8 2020-12-21 17:17:34         login    none 2020-12-21   \n",
       "73658  1484BBF124DB1B18 2020-12-21 17:51:44         login    none 2020-12-21   \n",
       "73660  BEF16764A13AEC34 2020-12-21 03:49:49         login    none 2020-12-21   \n",
       "73662  1E6B9298415AA97A 2020-12-21 18:20:12         login    none 2020-12-21   \n",
       "73664  23DDD27AC3FEFA63 2020-12-21 02:51:45         login    none 2020-12-21   \n",
       "\n",
       "      group                  ab_test  \n",
       "9         A  recommender_system_test  \n",
       "10        A  recommender_system_test  \n",
       "11        A  recommender_system_test  \n",
       "12        A  recommender_system_test  \n",
       "13        A  recommender_system_test  \n",
       "...     ...                      ...  \n",
       "73655     B  recommender_system_test  \n",
       "73658     A  recommender_system_test  \n",
       "73660     B  recommender_system_test  \n",
       "73662     B  recommender_system_test  \n",
       "73664     A  recommender_system_test  \n",
       "\n",
       "[17621 rows x 7 columns]"
      ]
     },
     "execution_count": 17,
     "metadata": {},
     "output_type": "execute_result"
    }
   ],
   "source": [
    "new_participant_data = filtered_user.merge(test_participant,on='user_id')\n",
    "new_participant_data = new_participant_data[new_participant_data['ab_test']=='recommender_system_test'] \n",
    "new_participant_data"
   ]
  },
  {
   "cell_type": "markdown",
   "metadata": {},
   "source": [
    "menggabungkan dataset new_user_event dan  test_participant menggunakan metode merge berdasarkan user_id, gunanya disini saya ingin mengetahui user_id baru yang di dataset new_user_event yang mengikuti tes yang letaknya di tes_participant, nantinya user_id ini diketahui dia berada di grup mana dan jenis ab_test yang dia lakukan itu apa dan dataset ini nantinya digunakan untuk melakukan A/B testing yang nantinya untuk melihat sample yang ada di grup A atau B ada perbedaan perilaku atau tidak."
   ]
  },
  {
   "cell_type": "code",
   "execution_count": 18,
   "metadata": {},
   "outputs": [
    {
     "data": {
      "text/html": [
       "<div>\n",
       "<style scoped>\n",
       "    .dataframe tbody tr th:only-of-type {\n",
       "        vertical-align: middle;\n",
       "    }\n",
       "\n",
       "    .dataframe tbody tr th {\n",
       "        vertical-align: top;\n",
       "    }\n",
       "\n",
       "    .dataframe thead th {\n",
       "        text-align: right;\n",
       "    }\n",
       "</style>\n",
       "<table border=\"1\" class=\"dataframe\">\n",
       "  <thead>\n",
       "    <tr style=\"text-align: right;\">\n",
       "      <th></th>\n",
       "      <th>event_name</th>\n",
       "      <th>0</th>\n",
       "    </tr>\n",
       "  </thead>\n",
       "  <tbody>\n",
       "    <tr>\n",
       "      <th>0</th>\n",
       "      <td>login</td>\n",
       "      <td>8001</td>\n",
       "    </tr>\n",
       "    <tr>\n",
       "      <th>2</th>\n",
       "      <td>product_page</td>\n",
       "      <td>4917</td>\n",
       "    </tr>\n",
       "    <tr>\n",
       "      <th>1</th>\n",
       "      <td>product_cart</td>\n",
       "      <td>2351</td>\n",
       "    </tr>\n",
       "    <tr>\n",
       "      <th>3</th>\n",
       "      <td>purchase</td>\n",
       "      <td>2352</td>\n",
       "    </tr>\n",
       "  </tbody>\n",
       "</table>\n",
       "</div>"
      ],
      "text/plain": [
       "     event_name     0\n",
       "0         login  8001\n",
       "2  product_page  4917\n",
       "1  product_cart  2351\n",
       "3      purchase  2352"
      ]
     },
     "execution_count": 18,
     "metadata": {},
     "output_type": "execute_result"
    }
   ],
   "source": [
    "user_per_event = new_participant_data.groupby('event_name').size().reset_index()\n",
    "user_per_event.loc[[0,2,1,3],:]"
   ]
  },
  {
   "cell_type": "markdown",
   "metadata": {},
   "source": [
    "### cek  pengguna yang berada di kedua sampel"
   ]
  },
  {
   "cell_type": "code",
   "execution_count": 19,
   "metadata": {},
   "outputs": [
    {
     "data": {
      "text/html": [
       "<div>\n",
       "<style scoped>\n",
       "    .dataframe tbody tr th:only-of-type {\n",
       "        vertical-align: middle;\n",
       "    }\n",
       "\n",
       "    .dataframe tbody tr th {\n",
       "        vertical-align: top;\n",
       "    }\n",
       "\n",
       "    .dataframe thead th {\n",
       "        text-align: right;\n",
       "    }\n",
       "</style>\n",
       "<table border=\"1\" class=\"dataframe\">\n",
       "  <thead>\n",
       "    <tr style=\"text-align: right;\">\n",
       "      <th></th>\n",
       "      <th>user_id</th>\n",
       "      <th>group</th>\n",
       "    </tr>\n",
       "  </thead>\n",
       "  <tbody>\n",
       "  </tbody>\n",
       "</table>\n",
       "</div>"
      ],
      "text/plain": [
       "Empty DataFrame\n",
       "Columns: [user_id, group]\n",
       "Index: []"
      ]
     },
     "execution_count": 19,
     "metadata": {},
     "output_type": "execute_result"
    }
   ],
   "source": [
    "check_user= new_participant_data.groupby('user_id')['group'].nunique().reset_index()\n",
    "check_user[check_user['group']==2]\n",
    "\n",
    "#a[a['ab_test']==2]"
   ]
  },
  {
   "cell_type": "markdown",
   "metadata": {},
   "source": [
    "pada tahap ini saya melihat apakah ada user_id yang masuk ke kelompok uji A dan B secara sekaligus, jika ternyata ada nantinya user_id ini tidak boleh ikut kelompok uji karena dia berada di 2 kelompok dalam 1 waktu, sehingga hasilnya akan mempengaruhi keakuratan di setiap kelompok uji"
   ]
  },
  {
   "cell_type": "markdown",
   "metadata": {},
   "source": [
    "### pendistribusian jumlah peristiwa berdasarkan hari"
   ]
  },
  {
   "cell_type": "code",
   "execution_count": 20,
   "metadata": {
    "scrolled": false
   },
   "outputs": [
    {
     "data": {
      "text/html": [
       "<div>\n",
       "<style scoped>\n",
       "    .dataframe tbody tr th:only-of-type {\n",
       "        vertical-align: middle;\n",
       "    }\n",
       "\n",
       "    .dataframe tbody tr th {\n",
       "        vertical-align: top;\n",
       "    }\n",
       "\n",
       "    .dataframe thead th {\n",
       "        text-align: right;\n",
       "    }\n",
       "</style>\n",
       "<table border=\"1\" class=\"dataframe\">\n",
       "  <thead>\n",
       "    <tr style=\"text-align: right;\">\n",
       "      <th></th>\n",
       "      <th>date</th>\n",
       "      <th>event_name</th>\n",
       "    </tr>\n",
       "  </thead>\n",
       "  <tbody>\n",
       "    <tr>\n",
       "      <th>0</th>\n",
       "      <td>2020-12-07</td>\n",
       "      <td>709</td>\n",
       "    </tr>\n",
       "    <tr>\n",
       "      <th>1</th>\n",
       "      <td>2020-12-08</td>\n",
       "      <td>593</td>\n",
       "    </tr>\n",
       "    <tr>\n",
       "      <th>2</th>\n",
       "      <td>2020-12-09</td>\n",
       "      <td>746</td>\n",
       "    </tr>\n",
       "    <tr>\n",
       "      <th>3</th>\n",
       "      <td>2020-12-10</td>\n",
       "      <td>613</td>\n",
       "    </tr>\n",
       "    <tr>\n",
       "      <th>4</th>\n",
       "      <td>2020-12-11</td>\n",
       "      <td>542</td>\n",
       "    </tr>\n",
       "    <tr>\n",
       "      <th>5</th>\n",
       "      <td>2020-12-12</td>\n",
       "      <td>558</td>\n",
       "    </tr>\n",
       "    <tr>\n",
       "      <th>6</th>\n",
       "      <td>2020-12-13</td>\n",
       "      <td>504</td>\n",
       "    </tr>\n",
       "    <tr>\n",
       "      <th>7</th>\n",
       "      <td>2020-12-14</td>\n",
       "      <td>1355</td>\n",
       "    </tr>\n",
       "    <tr>\n",
       "      <th>8</th>\n",
       "      <td>2020-12-15</td>\n",
       "      <td>1316</td>\n",
       "    </tr>\n",
       "    <tr>\n",
       "      <th>9</th>\n",
       "      <td>2020-12-16</td>\n",
       "      <td>1454</td>\n",
       "    </tr>\n",
       "    <tr>\n",
       "      <th>10</th>\n",
       "      <td>2020-12-17</td>\n",
       "      <td>1548</td>\n",
       "    </tr>\n",
       "    <tr>\n",
       "      <th>11</th>\n",
       "      <td>2020-12-18</td>\n",
       "      <td>1584</td>\n",
       "    </tr>\n",
       "    <tr>\n",
       "      <th>12</th>\n",
       "      <td>2020-12-19</td>\n",
       "      <td>1810</td>\n",
       "    </tr>\n",
       "    <tr>\n",
       "      <th>13</th>\n",
       "      <td>2020-12-20</td>\n",
       "      <td>1848</td>\n",
       "    </tr>\n",
       "    <tr>\n",
       "      <th>14</th>\n",
       "      <td>2020-12-21</td>\n",
       "      <td>2441</td>\n",
       "    </tr>\n",
       "  </tbody>\n",
       "</table>\n",
       "</div>"
      ],
      "text/plain": [
       "         date  event_name\n",
       "0  2020-12-07         709\n",
       "1  2020-12-08         593\n",
       "2  2020-12-09         746\n",
       "3  2020-12-10         613\n",
       "4  2020-12-11         542\n",
       "5  2020-12-12         558\n",
       "6  2020-12-13         504\n",
       "7  2020-12-14        1355\n",
       "8  2020-12-15        1316\n",
       "9  2020-12-16        1454\n",
       "10 2020-12-17        1548\n",
       "11 2020-12-18        1584\n",
       "12 2020-12-19        1810\n",
       "13 2020-12-20        1848\n",
       "14 2020-12-21        2441"
      ]
     },
     "execution_count": 20,
     "metadata": {},
     "output_type": "execute_result"
    }
   ],
   "source": [
    "new_participant_data.groupby('date')['event_name'].count().reset_index()"
   ]
  },
  {
   "cell_type": "markdown",
   "metadata": {},
   "source": [
    "terlihat jumlah pendistribusi peristiwa berdasarkan hari jumlahnya berbeda, peak nya terjadi di tanggal"
   ]
  },
  {
   "cell_type": "markdown",
   "metadata": {},
   "source": [
    "## Evaluasi hasil A/B testing"
   ]
  },
  {
   "cell_type": "code",
   "execution_count": 21,
   "metadata": {},
   "outputs": [
    {
     "data": {
      "text/html": [
       "<div>\n",
       "<style scoped>\n",
       "    .dataframe tbody tr th:only-of-type {\n",
       "        vertical-align: middle;\n",
       "    }\n",
       "\n",
       "    .dataframe tbody tr th {\n",
       "        vertical-align: top;\n",
       "    }\n",
       "\n",
       "    .dataframe thead th {\n",
       "        text-align: right;\n",
       "    }\n",
       "</style>\n",
       "<table border=\"1\" class=\"dataframe\">\n",
       "  <thead>\n",
       "    <tr style=\"text-align: right;\">\n",
       "      <th>group</th>\n",
       "      <th>A</th>\n",
       "      <th>B</th>\n",
       "    </tr>\n",
       "    <tr>\n",
       "      <th>event_name</th>\n",
       "      <th></th>\n",
       "      <th></th>\n",
       "    </tr>\n",
       "  </thead>\n",
       "  <tbody>\n",
       "    <tr>\n",
       "      <th>login</th>\n",
       "      <td>2747</td>\n",
       "      <td>927</td>\n",
       "    </tr>\n",
       "    <tr>\n",
       "      <th>product_cart</th>\n",
       "      <td>824</td>\n",
       "      <td>255</td>\n",
       "    </tr>\n",
       "    <tr>\n",
       "      <th>product_page</th>\n",
       "      <td>1780</td>\n",
       "      <td>523</td>\n",
       "    </tr>\n",
       "    <tr>\n",
       "      <th>purchase</th>\n",
       "      <td>872</td>\n",
       "      <td>256</td>\n",
       "    </tr>\n",
       "  </tbody>\n",
       "</table>\n",
       "</div>"
      ],
      "text/plain": [
       "group            A    B\n",
       "event_name             \n",
       "login         2747  927\n",
       "product_cart   824  255\n",
       "product_page  1780  523\n",
       "purchase       872  256"
      ]
     },
     "execution_count": 21,
     "metadata": {},
     "output_type": "execute_result"
    }
   ],
   "source": [
    "total_user_per_event_group = new_participant_data.pivot_table(index = 'event_name',columns='group',values='user_id',aggfunc='nunique')\n",
    "#total_user_per_event_group = total_user_per_event_group.iloc[[0,2,1,3],:].reset_index()\n",
    "total_user_per_event_group"
   ]
  },
  {
   "cell_type": "markdown",
   "metadata": {},
   "source": [
    "Pada tahap ini saya ingin melihat masing masing per-grup ada berapa user yang melakukan event pada toko daring dan melihat pebedaan konversinya pada masing masing grup a dan b, nantinya untuk melihat ada tidaknya pebedaan konversi dari satu event ke event lain pada masing masing grup menggunakan jumlah ini juga"
   ]
  },
  {
   "cell_type": "code",
   "execution_count": 22,
   "metadata": {},
   "outputs": [
    {
     "data": {
      "text/plain": [
       "group\n",
       "A    2747\n",
       "B     928\n",
       "Name: user_id, dtype: int64"
      ]
     },
     "execution_count": 22,
     "metadata": {},
     "output_type": "execute_result"
    }
   ],
   "source": [
    "total_user_group = new_participant_data.groupby('group')['user_id'].nunique()\n",
    "total_user_group"
   ]
  },
  {
   "cell_type": "code",
   "execution_count": 23,
   "metadata": {},
   "outputs": [],
   "source": [
    "def tes(convert1,convert2,total1,total2,alpha=0.05):\n",
    "    p1 = convert1/total1\n",
    "    p2 = convert2/total2\n",
    "    \n",
    "    combine = (convert1+convert2)/(total1+total2)\n",
    "    \n",
    "    difference = p1-p2\n",
    "    \n",
    "    zvalues = difference/mt.sqrt(combine*(1-combine)*(1/total1 + 1/total2))\n",
    "    \n",
    "    distr = st.norm(0,1)\n",
    "    \n",
    "    pvalue = (1-distr.cdf(abs(zvalues)))*2\n",
    "    \n",
    "    #print('pvalue =',  pvalue)\n",
    "    print(\"pvalue :{:.2f}\".format(pvalue))\n",
    "    \n",
    "    if (pvalue < alpha) :\n",
    "        print(\"menolak H0 : ada  perbedaan statistik di antara proporsinya, antara 2 kelompok\")\n",
    "    else:\n",
    "        print(\"gagal menolak H0 : tidak ada  perbedaan statistik di antara proporsinya, antara 2 kelompok\")\n"
   ]
  },
  {
   "cell_type": "code",
   "execution_count": 24,
   "metadata": {},
   "outputs": [
    {
     "name": "stdout",
     "output_type": "stream",
     "text": [
      "pvalue :0.09\n",
      "gagal menolak H0 : tidak ada  perbedaan statistik di antara proporsinya, antara 2 kelompok\n"
     ]
    }
   ],
   "source": [
    "tes(total_user_per_event_group.loc['login','A'],\n",
    "    total_user_per_event_group.loc['login','B'],\n",
    "    total_user_group.loc['A'],\n",
    "    total_user_group.loc['B'])"
   ]
  },
  {
   "cell_type": "markdown",
   "metadata": {},
   "source": [
    "fungsi ini saya gunakan untuk mencari adakah perbedaan signifikan antara pengguna yang ada di kelompok A(kontorl) dan kelompok B(corong pembayaran baru) menggunakan metode z_test caranya langkahnya :\n",
    "\n",
    "1. saya mencari sukses rate pada masing masing kelompok uji antar A dan B \n",
    "\n",
    "2. setelah itu mencari nilai succes rate gabungan kelompou uji A dan B\n",
    "\n",
    "3. selanjutnya saya mencari perbedaan succes rate koversi untuk setiap kelompok uji, dengan melakukan tahap ini kita ingin mengetahui apakah ada perbedaan signifikan antara success rate konversion antara kelompok uji 246 dan 247\n",
    "\n",
    "4. pada variable zvalues saya ingin mengetahui berapa besar perbedaan success rate menggunakan metode standart deviasi dari distribusi normal standart dengan menggunakan zvalues saya ingin mengetahui jumlah perbedaan success rate 2 kelompok dalam satuan standart deviasi\n",
    "\n",
    "5. pada bagian distr saya menggunakan untuk menentukan nilai p_value yang digunakan untuk menentukan hasil hipotesis, nilai dari distr(distribusi normal standard) digunakan untuk mencari pvalue dengan menggunakan fungsi cdf(fungsi disribusi cumulative)\n",
    "\n",
    "6. setelah dapat nilai p_value saya membandingkan nya apakah nilai p_value yang dihasilkan kurang atau lebih dari nilai alpha yang sudah saya set sebelumnya diatas, jika nilainya kurang dari alpha maka kita bisa menolak H0 dan jika nilai lebih dari alpha kita bisa menolak H0"
   ]
  },
  {
   "cell_type": "code",
   "execution_count": 25,
   "metadata": {},
   "outputs": [],
   "source": [
    "def testing_event(total_user_per_event_group,total_user_grup,event_name,group1,group2):\n",
    "    groupA = total_user_per_event_group.loc[event_name,group1]/total_user_group.loc[group1],\n",
    "    groupB = total_user_per_event_group.loc[event_name,group2]/total_user_group.loc[group2],\n",
    "    print(f'{groupA} with {event_name} in group {group1}'),\n",
    "    print(f'{groupB} with {event_name} in group {group2}'),\n",
    "    tes(total_user_per_event_group.loc[event_name,group1],\n",
    "        total_user_per_event_group.loc[event_name,group2],\n",
    "        total_user_group.loc[group1],\n",
    "        total_user_group.loc[group2])"
   ]
  },
  {
   "cell_type": "code",
   "execution_count": null,
   "metadata": {},
   "outputs": [],
   "source": [
    "total_user_per_event_group.loc['login']"
   ]
  },
  {
   "cell_type": "markdown",
   "metadata": {},
   "source": [
    "pada fungsi ini saya ingin mengetahui jumlah rata rata perbandingan antara grup A dan grup B untuk setiap event yang terjadi digrup A dan grup B tujuannya adalah untuk melihat adakan perbedaan signifikand dari setiap peristiwa/event yang dilakukan user di masing masing kelompok A dan B \n",
    "\n",
    "hal pertama yang dilakukan adalah mencari persentase dimasing masing kelompok A dan B dengan membagi jumlah total user yang melakukan event yang sedang terjadi dengan total user yang ada di masing masing kelompok"
   ]
  },
  {
   "cell_type": "code",
   "execution_count": 26,
   "metadata": {},
   "outputs": [
    {
     "name": "stdout",
     "output_type": "stream",
     "text": [
      "(1.0,) with login in group A\n",
      "(0.9989224137931034,) with login in group B\n",
      "pvalue :0.09\n",
      "gagal menolak H0 : tidak ada  perbedaan statistik di antara proporsinya, antara 2 kelompok\n",
      "\n",
      "(0.2999635966508919,) with product_cart in group A\n",
      "(0.27478448275862066,) with product_cart in group B\n",
      "pvalue :0.15\n",
      "gagal menolak H0 : tidak ada  perbedaan statistik di antara proporsinya, antara 2 kelompok\n",
      "\n",
      "(0.6479796141244994,) with product_page in group A\n",
      "(0.5635775862068966,) with product_page in group B\n",
      "pvalue :0.00\n",
      "menolak H0 : ada  perbedaan statistik di antara proporsinya, antara 2 kelompok\n",
      "\n",
      "(0.3174372042227885,) with purchase in group A\n",
      "(0.27586206896551724,) with purchase in group B\n",
      "pvalue :0.02\n",
      "menolak H0 : ada  perbedaan statistik di antara proporsinya, antara 2 kelompok\n",
      "\n"
     ]
    }
   ],
   "source": [
    "for event_name in total_user_per_event_group.index:\n",
    "    testing_event(total_user_per_event_group,total_user_group,event_name,'A','B')\n",
    "    \n",
    "    print()\n",
    "   "
   ]
  },
  {
   "cell_type": "markdown",
   "metadata": {},
   "source": [
    "pada tahapan diatas saya melakukan pengujian untuk setiap peristiwa yang terjadi di kedua kelompok A dan B, untuk peristiwa login todal ada berbedaan signifikan antara kedua kelompoknya, untuk peristiwa product_cart juga tidak ada perbedaan signifikan, sedangkan untuk peristiwa product_page dan purchase ada perbedaan antara user di kelompok A dan kelompok B, mungkin perbedaannya ada di jumlah pembelian yang dihabiskan masing-masing user di kelompok uji, bisa jadi user kelompok A lebih banyak menghabiskan uang dibanding user kelompok B pada event purchase"
   ]
  },
  {
   "cell_type": "markdown",
   "metadata": {},
   "source": [
    "## Kesimpulan\n",
    "\n",
    "dengan serangkaian test A/B testing yang telah diuji coba hasilnya untuk kelompok A dan kelompok B tidak ada perbedaan statistik diantara proporsinya, kemungkinan untuk setiap corong peristiwa masing masing kelompok konversi dari satu peristiwa ke peristiwa nilainya hampir sama, jadi setiap peristiwa seteleah login , product_page → product_cart → purchase konvenrsi untuk dari kelompok A atau kelompok B sama dari satu peristiwa jumlah user_id yang melakukan event semakin mengecil sama seprti corong"
   ]
  },
  {
   "cell_type": "code",
   "execution_count": null,
   "metadata": {},
   "outputs": [],
   "source": []
  }
 ],
 "metadata": {
  "kernelspec": {
   "display_name": "Python 3 (ipykernel)",
   "language": "python",
   "name": "python3"
  },
  "language_info": {
   "codemirror_mode": {
    "name": "ipython",
    "version": 3
   },
   "file_extension": ".py",
   "mimetype": "text/x-python",
   "name": "python",
   "nbconvert_exporter": "python",
   "pygments_lexer": "ipython3",
   "version": "3.9.13"
  },
  "toc": {
   "base_numbering": 1,
   "nav_menu": {},
   "number_sections": true,
   "sideBar": true,
   "skip_h1_title": true,
   "title_cell": "Table of Contents",
   "title_sidebar": "Contents",
   "toc_cell": false,
   "toc_position": {},
   "toc_section_display": true,
   "toc_window_display": false
  }
 },
 "nbformat": 4,
 "nbformat_minor": 2
}
