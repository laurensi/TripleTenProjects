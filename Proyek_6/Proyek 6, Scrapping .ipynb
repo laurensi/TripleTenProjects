{
 "cells": [
  {
   "cell_type": "markdown",
   "id": "3ff36338",
   "metadata": {},
   "source": [
    "# Deskripsi proyek\n",
    "\n",
    "\n",
    "Tuliskan sebuah kode untuk mengurai data cuaca di Chicago pada bulan November 2017 dari situs web:\n",
    "https://practicum-content.s3.us-west-1.amazonaws.com/data-analyst-eng/moved_chicago_weather_2017.html\n",
    "Nama DataFrame-nya adalah weather_records dan Anda harus menyebutkan hal tersebut dengan spesifik saat Anda mencarinya: attrs={\"id\": \"weather_records\"}. Tampilkan DataFrame tersebut secara keseluruhan."
   ]
  },
  {
   "cell_type": "code",
   "execution_count": 1,
   "id": "53c6a340",
   "metadata": {},
   "outputs": [],
   "source": [
    "import requests\n",
    "from bs4 import BeautifulSoup\n",
    "import pandas as pd\n",
    "\n",
    "from sqlalchemy import create_engine"
   ]
  },
  {
   "cell_type": "code",
   "execution_count": 2,
   "id": "0ec7f118",
   "metadata": {},
   "outputs": [],
   "source": [
    "URL='https://practicum-content.s3.us-west-1.amazonaws.com/data-analyst-eng/moved_chicago_weather_2017.html'\n",
    "\n",
    "req = requests.get(URL)\n",
    "soup = BeautifulSoup(req.text, 'lxml')\n",
    "table = soup.find('table',attrs={'id':'weather_records'})\n",
    "heading_table=[]\n",
    "for row in table.find_all('th'):\n",
    "    heading_table.append(row.text)\n",
    "content=[]\n",
    "for row in table.find_all('tr'):\n",
    "    if not row.find_all('th'):\n",
    "        content.append([element.text for element in row.find_all('td')])\n",
    "weather_records=pd.DataFrame(content, columns = heading_table)\n"
   ]
  },
  {
   "cell_type": "code",
   "execution_count": null,
   "id": "ff43d2d9",
   "metadata": {},
   "outputs": [],
   "source": [
    "print(weather_records)"
   ]
  },
  {
   "cell_type": "code",
   "execution_count": null,
   "id": "88a4bdfc",
   "metadata": {},
   "outputs": [],
   "source": [
    "#weather_records =  weather_records.rename(columns={'Date and time':'Date'})"
   ]
  },
  {
   "cell_type": "code",
   "execution_count": null,
   "id": "14ea7727",
   "metadata": {},
   "outputs": [],
   "source": [
    "db_lite=create_engine('sqlite:///data.db')"
   ]
  },
  {
   "cell_type": "code",
   "execution_count": null,
   "id": "ca75ba86",
   "metadata": {},
   "outputs": [],
   "source": [
    "weather_records.to_sql('weather_records',con=db_lite,index=False)"
   ]
  },
  {
   "cell_type": "code",
   "execution_count": null,
   "id": "d44374b2",
   "metadata": {},
   "outputs": [],
   "source": [
    "pd.read_sql_query(\"Select *from weather_records\",db_lite)"
   ]
  },
  {
   "cell_type": "code",
   "execution_count": null,
   "id": "88b05f51",
   "metadata": {},
   "outputs": [],
   "source": [
    "pd.read_sql_query(\"select * from weather_records where Description='broken clouds' \",db_lite)"
   ]
  }
 ],
 "metadata": {
  "kernelspec": {
   "display_name": "Python 3 (ipykernel)",
   "language": "python",
   "name": "python3"
  },
  "language_info": {
   "codemirror_mode": {
    "name": "ipython",
    "version": 3
   },
   "file_extension": ".py",
   "mimetype": "text/x-python",
   "name": "python",
   "nbconvert_exporter": "python",
   "pygments_lexer": "ipython3",
   "version": "3.9.13"
  }
 },
 "nbformat": 4,
 "nbformat_minor": 5
}
