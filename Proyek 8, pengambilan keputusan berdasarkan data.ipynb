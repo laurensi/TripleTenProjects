{
 "cells": [
  {
   "cell_type": "markdown",
   "id": "99ffbbbe",
   "metadata": {},
   "source": [
    "# Deskripsi proyek\n",
    "\n",
    "sebuah perusahaan ingin melakukan perubahan pada tampilan guna meningkatkan penjualan di sebuah toko daring, pada proyek kali ini saya mau melakukan analisis apakah dengan perubahan tersebut bisa meningkatkan penjualan di toko daring ini dengan melakukan A/B Testing\n",
    "\n",
    "dataset yang digunakan:\n",
    "- /datasets/hypotheses_us.csv\n",
    "- /datasets/orders_us.csv\n",
    "- /datasets/visits_us.csv\n"
   ]
  },
  {
   "cell_type": "code",
   "execution_count": 26,
   "id": "4dd4507a",
   "metadata": {},
   "outputs": [],
   "source": [
    "import pandas as pd\n",
    "import numpy as np\n",
    "import matplotlib.pyplot as plt\n",
    "import seaborn as sns\n",
    "import scipy.stats as st"
   ]
  },
  {
   "cell_type": "code",
   "execution_count": 27,
   "id": "60e6f828",
   "metadata": {},
   "outputs": [],
   "source": [
    "#memuat dataset\n",
    "\n",
    "data_hypoteses = pd.read_csv('https://practicum-content.s3.us-west-1.amazonaws.com/datasets/hypotheses_us.csv',sep=\";\")\n",
    "data_orders = pd.read_csv('https://practicum-content.s3.us-west-1.amazonaws.com/datasets/orders_us.csv')\n",
    "data_visits = pd.read_csv('https://practicum-content.s3.us-west-1.amazonaws.com/datasets/visits_us.csv')\n"
   ]
  },
  {
   "cell_type": "code",
   "execution_count": 28,
   "id": "97c3a5e5",
   "metadata": {},
   "outputs": [
    {
     "name": "stdout",
     "output_type": "stream",
     "text": [
      "<class 'pandas.core.frame.DataFrame'>\n",
      "RangeIndex: 9 entries, 0 to 8\n",
      "Data columns (total 5 columns):\n",
      " #   Column      Non-Null Count  Dtype \n",
      "---  ------      --------------  ----- \n",
      " 0   Hypothesis  9 non-null      object\n",
      " 1   Reach       9 non-null      int64 \n",
      " 2   Impact      9 non-null      int64 \n",
      " 3   Confidence  9 non-null      int64 \n",
      " 4   Effort      9 non-null      int64 \n",
      "dtypes: int64(4), object(1)\n",
      "memory usage: 488.0+ bytes\n"
     ]
    }
   ],
   "source": [
    "#melihat masing masing data apakah ada nilai hilang atau tidak, dan melihat tipe datanya apakah sudah sesuai atau belum\n",
    "data_hypoteses.info()"
   ]
  },
  {
   "cell_type": "code",
   "execution_count": 29,
   "id": "c8bbd76d",
   "metadata": {},
   "outputs": [
    {
     "name": "stdout",
     "output_type": "stream",
     "text": [
      "<class 'pandas.core.frame.DataFrame'>\n",
      "RangeIndex: 1197 entries, 0 to 1196\n",
      "Data columns (total 5 columns):\n",
      " #   Column         Non-Null Count  Dtype  \n",
      "---  ------         --------------  -----  \n",
      " 0   transactionId  1197 non-null   int64  \n",
      " 1   visitorId      1197 non-null   int64  \n",
      " 2   date           1197 non-null   object \n",
      " 3   revenue        1197 non-null   float64\n",
      " 4   group          1197 non-null   object \n",
      "dtypes: float64(1), int64(2), object(2)\n",
      "memory usage: 46.9+ KB\n"
     ]
    }
   ],
   "source": [
    "data_orders.info()\n",
    "data_orders['date'] = pd.to_datetime(data_orders['date'])"
   ]
  },
  {
   "cell_type": "code",
   "execution_count": 30,
   "id": "8091677d",
   "metadata": {},
   "outputs": [
    {
     "name": "stdout",
     "output_type": "stream",
     "text": [
      "<class 'pandas.core.frame.DataFrame'>\n",
      "RangeIndex: 62 entries, 0 to 61\n",
      "Data columns (total 3 columns):\n",
      " #   Column  Non-Null Count  Dtype \n",
      "---  ------  --------------  ----- \n",
      " 0   date    62 non-null     object\n",
      " 1   group   62 non-null     object\n",
      " 2   visits  62 non-null     int64 \n",
      "dtypes: int64(1), object(2)\n",
      "memory usage: 1.6+ KB\n"
     ]
    }
   ],
   "source": [
    "data_visits.info()\n",
    "data_visits['date'] = pd.to_datetime(data_visits['date'])"
   ]
  },
  {
   "cell_type": "markdown",
   "id": "937d0c7b",
   "metadata": {},
   "source": [
    "# Bagian 1. Memprioritaskan Hipotesis"
   ]
  },
  {
   "cell_type": "markdown",
   "id": "d1c98377",
   "metadata": {},
   "source": [
    "### Menerapkan framework ICE untuk memprioritaskan hipotesis. Urutkan hipotesis tersebut dalam urutan prioritas menurun"
   ]
  },
  {
   "cell_type": "code",
   "execution_count": 31,
   "id": "7029518f",
   "metadata": {},
   "outputs": [
    {
     "data": {
      "text/html": [
       "<div>\n",
       "<style scoped>\n",
       "    .dataframe tbody tr th:only-of-type {\n",
       "        vertical-align: middle;\n",
       "    }\n",
       "\n",
       "    .dataframe tbody tr th {\n",
       "        vertical-align: top;\n",
       "    }\n",
       "\n",
       "    .dataframe thead th {\n",
       "        text-align: right;\n",
       "    }\n",
       "</style>\n",
       "<table border=\"1\" class=\"dataframe\">\n",
       "  <thead>\n",
       "    <tr style=\"text-align: right;\">\n",
       "      <th></th>\n",
       "      <th>Hypothesis</th>\n",
       "      <th>Reach</th>\n",
       "      <th>Impact</th>\n",
       "      <th>Confidence</th>\n",
       "      <th>Effort</th>\n",
       "    </tr>\n",
       "  </thead>\n",
       "  <tbody>\n",
       "    <tr>\n",
       "      <th>0</th>\n",
       "      <td>Add two new channels for attracting traffic. T...</td>\n",
       "      <td>3</td>\n",
       "      <td>10</td>\n",
       "      <td>8</td>\n",
       "      <td>6</td>\n",
       "    </tr>\n",
       "    <tr>\n",
       "      <th>1</th>\n",
       "      <td>Launch your own delivery service. This will sh...</td>\n",
       "      <td>2</td>\n",
       "      <td>5</td>\n",
       "      <td>4</td>\n",
       "      <td>10</td>\n",
       "    </tr>\n",
       "    <tr>\n",
       "      <th>2</th>\n",
       "      <td>Add product recommendation blocks to the store...</td>\n",
       "      <td>8</td>\n",
       "      <td>3</td>\n",
       "      <td>7</td>\n",
       "      <td>3</td>\n",
       "    </tr>\n",
       "    <tr>\n",
       "      <th>3</th>\n",
       "      <td>Change the category structure. This will incre...</td>\n",
       "      <td>8</td>\n",
       "      <td>3</td>\n",
       "      <td>3</td>\n",
       "      <td>8</td>\n",
       "    </tr>\n",
       "    <tr>\n",
       "      <th>4</th>\n",
       "      <td>Change the background color on the main page. ...</td>\n",
       "      <td>3</td>\n",
       "      <td>1</td>\n",
       "      <td>1</td>\n",
       "      <td>1</td>\n",
       "    </tr>\n",
       "    <tr>\n",
       "      <th>5</th>\n",
       "      <td>Add a customer review page. This will increase...</td>\n",
       "      <td>3</td>\n",
       "      <td>2</td>\n",
       "      <td>2</td>\n",
       "      <td>3</td>\n",
       "    </tr>\n",
       "    <tr>\n",
       "      <th>6</th>\n",
       "      <td>Show banners with current offers and sales on ...</td>\n",
       "      <td>5</td>\n",
       "      <td>3</td>\n",
       "      <td>8</td>\n",
       "      <td>3</td>\n",
       "    </tr>\n",
       "    <tr>\n",
       "      <th>7</th>\n",
       "      <td>Add a subscription form to all the main pages....</td>\n",
       "      <td>10</td>\n",
       "      <td>7</td>\n",
       "      <td>8</td>\n",
       "      <td>5</td>\n",
       "    </tr>\n",
       "    <tr>\n",
       "      <th>8</th>\n",
       "      <td>Launch a promotion that gives users discounts ...</td>\n",
       "      <td>1</td>\n",
       "      <td>9</td>\n",
       "      <td>9</td>\n",
       "      <td>5</td>\n",
       "    </tr>\n",
       "  </tbody>\n",
       "</table>\n",
       "</div>"
      ],
      "text/plain": [
       "                                          Hypothesis  Reach  Impact  \\\n",
       "0  Add two new channels for attracting traffic. T...      3      10   \n",
       "1  Launch your own delivery service. This will sh...      2       5   \n",
       "2  Add product recommendation blocks to the store...      8       3   \n",
       "3  Change the category structure. This will incre...      8       3   \n",
       "4  Change the background color on the main page. ...      3       1   \n",
       "5  Add a customer review page. This will increase...      3       2   \n",
       "6  Show banners with current offers and sales on ...      5       3   \n",
       "7  Add a subscription form to all the main pages....     10       7   \n",
       "8  Launch a promotion that gives users discounts ...      1       9   \n",
       "\n",
       "   Confidence  Effort  \n",
       "0           8       6  \n",
       "1           4      10  \n",
       "2           7       3  \n",
       "3           3       8  \n",
       "4           1       1  \n",
       "5           2       3  \n",
       "6           8       3  \n",
       "7           8       5  \n",
       "8           9       5  "
      ]
     },
     "execution_count": 31,
     "metadata": {},
     "output_type": "execute_result"
    }
   ],
   "source": [
    "data_hypoteses"
   ]
  },
  {
   "cell_type": "code",
   "execution_count": 32,
   "id": "9f44c3ba",
   "metadata": {},
   "outputs": [
    {
     "data": {
      "text/plain": [
       "array(['Add two new channels for attracting traffic. This will bring 30% more users',\n",
       "       'Launch your own delivery service. This will shorten delivery time',\n",
       "       \"Add product recommendation blocks to the store's site. This will increase conversion and average purchase size\",\n",
       "       'Change the category structure. This will increase conversion since users will find the products they want more quickly',\n",
       "       'Change the background color on the main page. This will increase user engagement',\n",
       "       'Add a customer review page. This will increase the number of orders',\n",
       "       'Show banners with current offers and sales on the main page. This will boost conversion',\n",
       "       'Add a subscription form to all the main pages. This will help you compile a mailing list',\n",
       "       'Launch a promotion that gives users discounts on their birthdays'],\n",
       "      dtype=object)"
      ]
     },
     "execution_count": 32,
     "metadata": {},
     "output_type": "execute_result"
    }
   ],
   "source": [
    "data_hypoteses['Hypothesis'].unique()"
   ]
  },
  {
   "cell_type": "code",
   "execution_count": 33,
   "id": "34f3b91a",
   "metadata": {},
   "outputs": [],
   "source": [
    "data_hypoteses['ICE'] = (data_hypoteses['Impact']*data_hypoteses['Confidence'])/data_hypoteses['Effort']\n",
    "data_hypoteses['RICE'] = (data_hypoteses['Reach']*data_hypoteses['Impact']*data_hypoteses['Confidence'])/data_hypoteses['Effort']"
   ]
  },
  {
   "cell_type": "code",
   "execution_count": 34,
   "id": "31b17429",
   "metadata": {},
   "outputs": [
    {
     "data": {
      "text/html": [
       "<div>\n",
       "<style scoped>\n",
       "    .dataframe tbody tr th:only-of-type {\n",
       "        vertical-align: middle;\n",
       "    }\n",
       "\n",
       "    .dataframe tbody tr th {\n",
       "        vertical-align: top;\n",
       "    }\n",
       "\n",
       "    .dataframe thead th {\n",
       "        text-align: right;\n",
       "    }\n",
       "</style>\n",
       "<table border=\"1\" class=\"dataframe\">\n",
       "  <thead>\n",
       "    <tr style=\"text-align: right;\">\n",
       "      <th></th>\n",
       "      <th>Hypothesis</th>\n",
       "      <th>Reach</th>\n",
       "      <th>Impact</th>\n",
       "      <th>Confidence</th>\n",
       "      <th>Effort</th>\n",
       "      <th>ICE</th>\n",
       "      <th>RICE</th>\n",
       "    </tr>\n",
       "  </thead>\n",
       "  <tbody>\n",
       "    <tr>\n",
       "      <th>8</th>\n",
       "      <td>Launch a promotion that gives users discounts ...</td>\n",
       "      <td>1</td>\n",
       "      <td>9</td>\n",
       "      <td>9</td>\n",
       "      <td>5</td>\n",
       "      <td>16.200000</td>\n",
       "      <td>16.2</td>\n",
       "    </tr>\n",
       "    <tr>\n",
       "      <th>0</th>\n",
       "      <td>Add two new channels for attracting traffic. T...</td>\n",
       "      <td>3</td>\n",
       "      <td>10</td>\n",
       "      <td>8</td>\n",
       "      <td>6</td>\n",
       "      <td>13.333333</td>\n",
       "      <td>40.0</td>\n",
       "    </tr>\n",
       "    <tr>\n",
       "      <th>7</th>\n",
       "      <td>Add a subscription form to all the main pages....</td>\n",
       "      <td>10</td>\n",
       "      <td>7</td>\n",
       "      <td>8</td>\n",
       "      <td>5</td>\n",
       "      <td>11.200000</td>\n",
       "      <td>112.0</td>\n",
       "    </tr>\n",
       "    <tr>\n",
       "      <th>6</th>\n",
       "      <td>Show banners with current offers and sales on ...</td>\n",
       "      <td>5</td>\n",
       "      <td>3</td>\n",
       "      <td>8</td>\n",
       "      <td>3</td>\n",
       "      <td>8.000000</td>\n",
       "      <td>40.0</td>\n",
       "    </tr>\n",
       "    <tr>\n",
       "      <th>2</th>\n",
       "      <td>Add product recommendation blocks to the store...</td>\n",
       "      <td>8</td>\n",
       "      <td>3</td>\n",
       "      <td>7</td>\n",
       "      <td>3</td>\n",
       "      <td>7.000000</td>\n",
       "      <td>56.0</td>\n",
       "    </tr>\n",
       "    <tr>\n",
       "      <th>1</th>\n",
       "      <td>Launch your own delivery service. This will sh...</td>\n",
       "      <td>2</td>\n",
       "      <td>5</td>\n",
       "      <td>4</td>\n",
       "      <td>10</td>\n",
       "      <td>2.000000</td>\n",
       "      <td>4.0</td>\n",
       "    </tr>\n",
       "    <tr>\n",
       "      <th>5</th>\n",
       "      <td>Add a customer review page. This will increase...</td>\n",
       "      <td>3</td>\n",
       "      <td>2</td>\n",
       "      <td>2</td>\n",
       "      <td>3</td>\n",
       "      <td>1.333333</td>\n",
       "      <td>4.0</td>\n",
       "    </tr>\n",
       "    <tr>\n",
       "      <th>3</th>\n",
       "      <td>Change the category structure. This will incre...</td>\n",
       "      <td>8</td>\n",
       "      <td>3</td>\n",
       "      <td>3</td>\n",
       "      <td>8</td>\n",
       "      <td>1.125000</td>\n",
       "      <td>9.0</td>\n",
       "    </tr>\n",
       "    <tr>\n",
       "      <th>4</th>\n",
       "      <td>Change the background color on the main page. ...</td>\n",
       "      <td>3</td>\n",
       "      <td>1</td>\n",
       "      <td>1</td>\n",
       "      <td>1</td>\n",
       "      <td>1.000000</td>\n",
       "      <td>3.0</td>\n",
       "    </tr>\n",
       "  </tbody>\n",
       "</table>\n",
       "</div>"
      ],
      "text/plain": [
       "                                          Hypothesis  Reach  Impact  \\\n",
       "8  Launch a promotion that gives users discounts ...      1       9   \n",
       "0  Add two new channels for attracting traffic. T...      3      10   \n",
       "7  Add a subscription form to all the main pages....     10       7   \n",
       "6  Show banners with current offers and sales on ...      5       3   \n",
       "2  Add product recommendation blocks to the store...      8       3   \n",
       "1  Launch your own delivery service. This will sh...      2       5   \n",
       "5  Add a customer review page. This will increase...      3       2   \n",
       "3  Change the category structure. This will incre...      8       3   \n",
       "4  Change the background color on the main page. ...      3       1   \n",
       "\n",
       "   Confidence  Effort        ICE   RICE  \n",
       "8           9       5  16.200000   16.2  \n",
       "0           8       6  13.333333   40.0  \n",
       "7           8       5  11.200000  112.0  \n",
       "6           8       3   8.000000   40.0  \n",
       "2           7       3   7.000000   56.0  \n",
       "1           4      10   2.000000    4.0  \n",
       "5           2       3   1.333333    4.0  \n",
       "3           3       8   1.125000    9.0  \n",
       "4           1       1   1.000000    3.0  "
      ]
     },
     "execution_count": 34,
     "metadata": {},
     "output_type": "execute_result"
    }
   ],
   "source": [
    "# melihat prioritas pengubahan berdasarkan metode ICE (metode ini hanya berpengaruh pada internal perusahaan tanpa melibatkan pihak lain)\n",
    "data_hypoteses.sort_values(by='ICE',ascending=False)"
   ]
  },
  {
   "cell_type": "markdown",
   "id": "7f18d134",
   "metadata": {},
   "source": [
    "pada analisis ICE prioritas perubahan yang harus dilakukan adalah meluncurkan promosi dengan memberikan diskon pada user, metode ini ICE ini tidak mencakup customer dan biasanya hanya ada di tim internal perusahaan saja"
   ]
  },
  {
   "cell_type": "code",
   "execution_count": 35,
   "id": "535d0c35",
   "metadata": {},
   "outputs": [
    {
     "data": {
      "text/html": [
       "<div>\n",
       "<style scoped>\n",
       "    .dataframe tbody tr th:only-of-type {\n",
       "        vertical-align: middle;\n",
       "    }\n",
       "\n",
       "    .dataframe tbody tr th {\n",
       "        vertical-align: top;\n",
       "    }\n",
       "\n",
       "    .dataframe thead th {\n",
       "        text-align: right;\n",
       "    }\n",
       "</style>\n",
       "<table border=\"1\" class=\"dataframe\">\n",
       "  <thead>\n",
       "    <tr style=\"text-align: right;\">\n",
       "      <th></th>\n",
       "      <th>Hypothesis</th>\n",
       "      <th>Reach</th>\n",
       "      <th>Impact</th>\n",
       "      <th>Confidence</th>\n",
       "      <th>Effort</th>\n",
       "      <th>ICE</th>\n",
       "      <th>RICE</th>\n",
       "    </tr>\n",
       "  </thead>\n",
       "  <tbody>\n",
       "    <tr>\n",
       "      <th>7</th>\n",
       "      <td>Add a subscription form to all the main pages....</td>\n",
       "      <td>10</td>\n",
       "      <td>7</td>\n",
       "      <td>8</td>\n",
       "      <td>5</td>\n",
       "      <td>11.200000</td>\n",
       "      <td>112.0</td>\n",
       "    </tr>\n",
       "    <tr>\n",
       "      <th>2</th>\n",
       "      <td>Add product recommendation blocks to the store...</td>\n",
       "      <td>8</td>\n",
       "      <td>3</td>\n",
       "      <td>7</td>\n",
       "      <td>3</td>\n",
       "      <td>7.000000</td>\n",
       "      <td>56.0</td>\n",
       "    </tr>\n",
       "    <tr>\n",
       "      <th>0</th>\n",
       "      <td>Add two new channels for attracting traffic. T...</td>\n",
       "      <td>3</td>\n",
       "      <td>10</td>\n",
       "      <td>8</td>\n",
       "      <td>6</td>\n",
       "      <td>13.333333</td>\n",
       "      <td>40.0</td>\n",
       "    </tr>\n",
       "    <tr>\n",
       "      <th>6</th>\n",
       "      <td>Show banners with current offers and sales on ...</td>\n",
       "      <td>5</td>\n",
       "      <td>3</td>\n",
       "      <td>8</td>\n",
       "      <td>3</td>\n",
       "      <td>8.000000</td>\n",
       "      <td>40.0</td>\n",
       "    </tr>\n",
       "    <tr>\n",
       "      <th>8</th>\n",
       "      <td>Launch a promotion that gives users discounts ...</td>\n",
       "      <td>1</td>\n",
       "      <td>9</td>\n",
       "      <td>9</td>\n",
       "      <td>5</td>\n",
       "      <td>16.200000</td>\n",
       "      <td>16.2</td>\n",
       "    </tr>\n",
       "    <tr>\n",
       "      <th>3</th>\n",
       "      <td>Change the category structure. This will incre...</td>\n",
       "      <td>8</td>\n",
       "      <td>3</td>\n",
       "      <td>3</td>\n",
       "      <td>8</td>\n",
       "      <td>1.125000</td>\n",
       "      <td>9.0</td>\n",
       "    </tr>\n",
       "    <tr>\n",
       "      <th>1</th>\n",
       "      <td>Launch your own delivery service. This will sh...</td>\n",
       "      <td>2</td>\n",
       "      <td>5</td>\n",
       "      <td>4</td>\n",
       "      <td>10</td>\n",
       "      <td>2.000000</td>\n",
       "      <td>4.0</td>\n",
       "    </tr>\n",
       "    <tr>\n",
       "      <th>5</th>\n",
       "      <td>Add a customer review page. This will increase...</td>\n",
       "      <td>3</td>\n",
       "      <td>2</td>\n",
       "      <td>2</td>\n",
       "      <td>3</td>\n",
       "      <td>1.333333</td>\n",
       "      <td>4.0</td>\n",
       "    </tr>\n",
       "    <tr>\n",
       "      <th>4</th>\n",
       "      <td>Change the background color on the main page. ...</td>\n",
       "      <td>3</td>\n",
       "      <td>1</td>\n",
       "      <td>1</td>\n",
       "      <td>1</td>\n",
       "      <td>1.000000</td>\n",
       "      <td>3.0</td>\n",
       "    </tr>\n",
       "  </tbody>\n",
       "</table>\n",
       "</div>"
      ],
      "text/plain": [
       "                                          Hypothesis  Reach  Impact  \\\n",
       "7  Add a subscription form to all the main pages....     10       7   \n",
       "2  Add product recommendation blocks to the store...      8       3   \n",
       "0  Add two new channels for attracting traffic. T...      3      10   \n",
       "6  Show banners with current offers and sales on ...      5       3   \n",
       "8  Launch a promotion that gives users discounts ...      1       9   \n",
       "3  Change the category structure. This will incre...      8       3   \n",
       "1  Launch your own delivery service. This will sh...      2       5   \n",
       "5  Add a customer review page. This will increase...      3       2   \n",
       "4  Change the background color on the main page. ...      3       1   \n",
       "\n",
       "   Confidence  Effort        ICE   RICE  \n",
       "7           8       5  11.200000  112.0  \n",
       "2           7       3   7.000000   56.0  \n",
       "0           8       6  13.333333   40.0  \n",
       "6           8       3   8.000000   40.0  \n",
       "8           9       5  16.200000   16.2  \n",
       "3           3       8   1.125000    9.0  \n",
       "1           4      10   2.000000    4.0  \n",
       "5           2       3   1.333333    4.0  \n",
       "4           1       1   1.000000    3.0  "
      ]
     },
     "execution_count": 35,
     "metadata": {},
     "output_type": "execute_result"
    }
   ],
   "source": [
    "#melihat prioritas perubahan berdasarkan metode RICE(metode ini berpengaruh pada pelanggan, atau perubahan mencakup/ berpengaruh pada pelanggan)\n",
    "data_hypoteses.sort_values(by='RICE',ascending=False)"
   ]
  },
  {
   "cell_type": "markdown",
   "id": "5da47f94",
   "metadata": {},
   "source": [
    "pada analisis RICE prioritas perubahan yang harus didahulukan adalah menambah subscription form untuk semua pages utama, tentunya perubahan ini mencakup dan berpengaruh bagi customer"
   ]
  },
  {
   "cell_type": "markdown",
   "id": "468ed423",
   "metadata": {},
   "source": [
    "### Bagian 2. Analisis A/B Testing"
   ]
  },
  {
   "cell_type": "code",
   "execution_count": 36,
   "id": "83b49906",
   "metadata": {},
   "outputs": [
    {
     "data": {
      "text/html": [
       "<div>\n",
       "<style scoped>\n",
       "    .dataframe tbody tr th:only-of-type {\n",
       "        vertical-align: middle;\n",
       "    }\n",
       "\n",
       "    .dataframe tbody tr th {\n",
       "        vertical-align: top;\n",
       "    }\n",
       "\n",
       "    .dataframe thead th {\n",
       "        text-align: right;\n",
       "    }\n",
       "</style>\n",
       "<table border=\"1\" class=\"dataframe\">\n",
       "  <thead>\n",
       "    <tr style=\"text-align: right;\">\n",
       "      <th></th>\n",
       "      <th>transactionId</th>\n",
       "      <th>visitorId</th>\n",
       "      <th>date</th>\n",
       "      <th>revenue</th>\n",
       "      <th>group</th>\n",
       "    </tr>\n",
       "  </thead>\n",
       "  <tbody>\n",
       "    <tr>\n",
       "      <th>0</th>\n",
       "      <td>3667963787</td>\n",
       "      <td>3312258926</td>\n",
       "      <td>2019-08-15</td>\n",
       "      <td>30.4</td>\n",
       "      <td>B</td>\n",
       "    </tr>\n",
       "    <tr>\n",
       "      <th>1</th>\n",
       "      <td>2804400009</td>\n",
       "      <td>3642806036</td>\n",
       "      <td>2019-08-15</td>\n",
       "      <td>15.2</td>\n",
       "      <td>B</td>\n",
       "    </tr>\n",
       "    <tr>\n",
       "      <th>2</th>\n",
       "      <td>2961555356</td>\n",
       "      <td>4069496402</td>\n",
       "      <td>2019-08-15</td>\n",
       "      <td>10.2</td>\n",
       "      <td>A</td>\n",
       "    </tr>\n",
       "    <tr>\n",
       "      <th>3</th>\n",
       "      <td>3797467345</td>\n",
       "      <td>1196621759</td>\n",
       "      <td>2019-08-15</td>\n",
       "      <td>155.1</td>\n",
       "      <td>B</td>\n",
       "    </tr>\n",
       "    <tr>\n",
       "      <th>4</th>\n",
       "      <td>2282983706</td>\n",
       "      <td>2322279887</td>\n",
       "      <td>2019-08-15</td>\n",
       "      <td>40.5</td>\n",
       "      <td>B</td>\n",
       "    </tr>\n",
       "    <tr>\n",
       "      <th>...</th>\n",
       "      <td>...</td>\n",
       "      <td>...</td>\n",
       "      <td>...</td>\n",
       "      <td>...</td>\n",
       "      <td>...</td>\n",
       "    </tr>\n",
       "    <tr>\n",
       "      <th>1192</th>\n",
       "      <td>2662137336</td>\n",
       "      <td>3733762160</td>\n",
       "      <td>2019-08-14</td>\n",
       "      <td>100.8</td>\n",
       "      <td>B</td>\n",
       "    </tr>\n",
       "    <tr>\n",
       "      <th>1193</th>\n",
       "      <td>2203539145</td>\n",
       "      <td>370388673</td>\n",
       "      <td>2019-08-14</td>\n",
       "      <td>50.1</td>\n",
       "      <td>A</td>\n",
       "    </tr>\n",
       "    <tr>\n",
       "      <th>1194</th>\n",
       "      <td>1807773912</td>\n",
       "      <td>573423106</td>\n",
       "      <td>2019-08-14</td>\n",
       "      <td>165.3</td>\n",
       "      <td>A</td>\n",
       "    </tr>\n",
       "    <tr>\n",
       "      <th>1195</th>\n",
       "      <td>1947021204</td>\n",
       "      <td>1614305549</td>\n",
       "      <td>2019-08-14</td>\n",
       "      <td>5.5</td>\n",
       "      <td>A</td>\n",
       "    </tr>\n",
       "    <tr>\n",
       "      <th>1196</th>\n",
       "      <td>3936777065</td>\n",
       "      <td>2108080724</td>\n",
       "      <td>2019-08-15</td>\n",
       "      <td>3120.1</td>\n",
       "      <td>B</td>\n",
       "    </tr>\n",
       "  </tbody>\n",
       "</table>\n",
       "<p>1197 rows × 5 columns</p>\n",
       "</div>"
      ],
      "text/plain": [
       "      transactionId   visitorId       date  revenue group\n",
       "0        3667963787  3312258926 2019-08-15     30.4     B\n",
       "1        2804400009  3642806036 2019-08-15     15.2     B\n",
       "2        2961555356  4069496402 2019-08-15     10.2     A\n",
       "3        3797467345  1196621759 2019-08-15    155.1     B\n",
       "4        2282983706  2322279887 2019-08-15     40.5     B\n",
       "...             ...         ...        ...      ...   ...\n",
       "1192     2662137336  3733762160 2019-08-14    100.8     B\n",
       "1193     2203539145   370388673 2019-08-14     50.1     A\n",
       "1194     1807773912   573423106 2019-08-14    165.3     A\n",
       "1195     1947021204  1614305549 2019-08-14      5.5     A\n",
       "1196     3936777065  2108080724 2019-08-15   3120.1     B\n",
       "\n",
       "[1197 rows x 5 columns]"
      ]
     },
     "execution_count": 36,
     "metadata": {},
     "output_type": "execute_result"
    }
   ],
   "source": [
    "data_orders"
   ]
  },
  {
   "cell_type": "code",
   "execution_count": 37,
   "id": "2b95833c",
   "metadata": {},
   "outputs": [
    {
     "data": {
      "text/html": [
       "<div>\n",
       "<style scoped>\n",
       "    .dataframe tbody tr th:only-of-type {\n",
       "        vertical-align: middle;\n",
       "    }\n",
       "\n",
       "    .dataframe tbody tr th {\n",
       "        vertical-align: top;\n",
       "    }\n",
       "\n",
       "    .dataframe thead th {\n",
       "        text-align: right;\n",
       "    }\n",
       "</style>\n",
       "<table border=\"1\" class=\"dataframe\">\n",
       "  <thead>\n",
       "    <tr style=\"text-align: right;\">\n",
       "      <th></th>\n",
       "      <th>date</th>\n",
       "      <th>group</th>\n",
       "      <th>visits</th>\n",
       "    </tr>\n",
       "  </thead>\n",
       "  <tbody>\n",
       "    <tr>\n",
       "      <th>0</th>\n",
       "      <td>2019-08-01</td>\n",
       "      <td>A</td>\n",
       "      <td>719</td>\n",
       "    </tr>\n",
       "    <tr>\n",
       "      <th>1</th>\n",
       "      <td>2019-08-02</td>\n",
       "      <td>A</td>\n",
       "      <td>619</td>\n",
       "    </tr>\n",
       "    <tr>\n",
       "      <th>2</th>\n",
       "      <td>2019-08-03</td>\n",
       "      <td>A</td>\n",
       "      <td>507</td>\n",
       "    </tr>\n",
       "    <tr>\n",
       "      <th>3</th>\n",
       "      <td>2019-08-04</td>\n",
       "      <td>A</td>\n",
       "      <td>717</td>\n",
       "    </tr>\n",
       "    <tr>\n",
       "      <th>4</th>\n",
       "      <td>2019-08-05</td>\n",
       "      <td>A</td>\n",
       "      <td>756</td>\n",
       "    </tr>\n",
       "    <tr>\n",
       "      <th>...</th>\n",
       "      <td>...</td>\n",
       "      <td>...</td>\n",
       "      <td>...</td>\n",
       "    </tr>\n",
       "    <tr>\n",
       "      <th>57</th>\n",
       "      <td>2019-08-27</td>\n",
       "      <td>B</td>\n",
       "      <td>720</td>\n",
       "    </tr>\n",
       "    <tr>\n",
       "      <th>58</th>\n",
       "      <td>2019-08-28</td>\n",
       "      <td>B</td>\n",
       "      <td>654</td>\n",
       "    </tr>\n",
       "    <tr>\n",
       "      <th>59</th>\n",
       "      <td>2019-08-29</td>\n",
       "      <td>B</td>\n",
       "      <td>531</td>\n",
       "    </tr>\n",
       "    <tr>\n",
       "      <th>60</th>\n",
       "      <td>2019-08-30</td>\n",
       "      <td>B</td>\n",
       "      <td>490</td>\n",
       "    </tr>\n",
       "    <tr>\n",
       "      <th>61</th>\n",
       "      <td>2019-08-31</td>\n",
       "      <td>B</td>\n",
       "      <td>718</td>\n",
       "    </tr>\n",
       "  </tbody>\n",
       "</table>\n",
       "<p>62 rows × 3 columns</p>\n",
       "</div>"
      ],
      "text/plain": [
       "         date group  visits\n",
       "0  2019-08-01     A     719\n",
       "1  2019-08-02     A     619\n",
       "2  2019-08-03     A     507\n",
       "3  2019-08-04     A     717\n",
       "4  2019-08-05     A     756\n",
       "..        ...   ...     ...\n",
       "57 2019-08-27     B     720\n",
       "58 2019-08-28     B     654\n",
       "59 2019-08-29     B     531\n",
       "60 2019-08-30     B     490\n",
       "61 2019-08-31     B     718\n",
       "\n",
       "[62 rows x 3 columns]"
      ]
     },
     "execution_count": 37,
     "metadata": {},
     "output_type": "execute_result"
    }
   ],
   "source": [
    "data_visits"
   ]
  },
  {
   "cell_type": "markdown",
   "id": "4cbcca67",
   "metadata": {},
   "source": [
    "#### Gambarkan pendapatan kumulatif berdasarkan kelompok. Buatlah kesimpulan dan asumsinya."
   ]
  },
  {
   "cell_type": "code",
   "execution_count": 38,
   "id": "885b318b",
   "metadata": {},
   "outputs": [
    {
     "data": {
      "text/html": [
       "<div>\n",
       "<style scoped>\n",
       "    .dataframe tbody tr th:only-of-type {\n",
       "        vertical-align: middle;\n",
       "    }\n",
       "\n",
       "    .dataframe tbody tr th {\n",
       "        vertical-align: top;\n",
       "    }\n",
       "\n",
       "    .dataframe thead th {\n",
       "        text-align: right;\n",
       "    }\n",
       "</style>\n",
       "<table border=\"1\" class=\"dataframe\">\n",
       "  <thead>\n",
       "    <tr style=\"text-align: right;\">\n",
       "      <th></th>\n",
       "      <th>date</th>\n",
       "      <th>group</th>\n",
       "    </tr>\n",
       "  </thead>\n",
       "  <tbody>\n",
       "    <tr>\n",
       "      <th>0</th>\n",
       "      <td>2019-08-01</td>\n",
       "      <td>A</td>\n",
       "    </tr>\n",
       "    <tr>\n",
       "      <th>1</th>\n",
       "      <td>2019-08-02</td>\n",
       "      <td>A</td>\n",
       "    </tr>\n",
       "    <tr>\n",
       "      <th>2</th>\n",
       "      <td>2019-08-03</td>\n",
       "      <td>A</td>\n",
       "    </tr>\n",
       "    <tr>\n",
       "      <th>3</th>\n",
       "      <td>2019-08-04</td>\n",
       "      <td>A</td>\n",
       "    </tr>\n",
       "    <tr>\n",
       "      <th>4</th>\n",
       "      <td>2019-08-05</td>\n",
       "      <td>A</td>\n",
       "    </tr>\n",
       "    <tr>\n",
       "      <th>...</th>\n",
       "      <td>...</td>\n",
       "      <td>...</td>\n",
       "    </tr>\n",
       "    <tr>\n",
       "      <th>57</th>\n",
       "      <td>2019-08-27</td>\n",
       "      <td>B</td>\n",
       "    </tr>\n",
       "    <tr>\n",
       "      <th>58</th>\n",
       "      <td>2019-08-28</td>\n",
       "      <td>B</td>\n",
       "    </tr>\n",
       "    <tr>\n",
       "      <th>59</th>\n",
       "      <td>2019-08-29</td>\n",
       "      <td>B</td>\n",
       "    </tr>\n",
       "    <tr>\n",
       "      <th>60</th>\n",
       "      <td>2019-08-30</td>\n",
       "      <td>B</td>\n",
       "    </tr>\n",
       "    <tr>\n",
       "      <th>61</th>\n",
       "      <td>2019-08-31</td>\n",
       "      <td>B</td>\n",
       "    </tr>\n",
       "  </tbody>\n",
       "</table>\n",
       "<p>62 rows × 2 columns</p>\n",
       "</div>"
      ],
      "text/plain": [
       "         date group\n",
       "0  2019-08-01     A\n",
       "1  2019-08-02     A\n",
       "2  2019-08-03     A\n",
       "3  2019-08-04     A\n",
       "4  2019-08-05     A\n",
       "..        ...   ...\n",
       "57 2019-08-27     B\n",
       "58 2019-08-28     B\n",
       "59 2019-08-29     B\n",
       "60 2019-08-30     B\n",
       "61 2019-08-31     B\n",
       "\n",
       "[62 rows x 2 columns]"
      ]
     },
     "execution_count": 38,
     "metadata": {},
     "output_type": "execute_result"
    }
   ],
   "source": [
    "#membuat tanggal kunjungan setiap group\n",
    "dates_group=data_visits[['date','group']].drop_duplicates()\n",
    "dates_group"
   ]
  },
  {
   "cell_type": "code",
   "execution_count": 39,
   "id": "fb0c2934",
   "metadata": {},
   "outputs": [
    {
     "data": {
      "text/html": [
       "<div>\n",
       "<style scoped>\n",
       "    .dataframe tbody tr th:only-of-type {\n",
       "        vertical-align: middle;\n",
       "    }\n",
       "\n",
       "    .dataframe tbody tr th {\n",
       "        vertical-align: top;\n",
       "    }\n",
       "\n",
       "    .dataframe thead th {\n",
       "        text-align: right;\n",
       "    }\n",
       "</style>\n",
       "<table border=\"1\" class=\"dataframe\">\n",
       "  <thead>\n",
       "    <tr style=\"text-align: right;\">\n",
       "      <th></th>\n",
       "      <th>date</th>\n",
       "      <th>group</th>\n",
       "      <th>total_transaction</th>\n",
       "      <th>total_buyer</th>\n",
       "      <th>revenue</th>\n",
       "      <th>visits</th>\n",
       "    </tr>\n",
       "  </thead>\n",
       "  <tbody>\n",
       "    <tr>\n",
       "      <th>0</th>\n",
       "      <td>2019-08-01</td>\n",
       "      <td>A</td>\n",
       "      <td>24</td>\n",
       "      <td>20</td>\n",
       "      <td>2356.8</td>\n",
       "      <td>719</td>\n",
       "    </tr>\n",
       "    <tr>\n",
       "      <th>1</th>\n",
       "      <td>2019-08-01</td>\n",
       "      <td>B</td>\n",
       "      <td>21</td>\n",
       "      <td>20</td>\n",
       "      <td>1620.0</td>\n",
       "      <td>713</td>\n",
       "    </tr>\n",
       "    <tr>\n",
       "      <th>2</th>\n",
       "      <td>2019-08-02</td>\n",
       "      <td>A</td>\n",
       "      <td>44</td>\n",
       "      <td>38</td>\n",
       "      <td>3860.3</td>\n",
       "      <td>1338</td>\n",
       "    </tr>\n",
       "    <tr>\n",
       "      <th>3</th>\n",
       "      <td>2019-08-02</td>\n",
       "      <td>B</td>\n",
       "      <td>45</td>\n",
       "      <td>43</td>\n",
       "      <td>4243.8</td>\n",
       "      <td>1294</td>\n",
       "    </tr>\n",
       "    <tr>\n",
       "      <th>4</th>\n",
       "      <td>2019-08-03</td>\n",
       "      <td>A</td>\n",
       "      <td>68</td>\n",
       "      <td>62</td>\n",
       "      <td>5675.5</td>\n",
       "      <td>1845</td>\n",
       "    </tr>\n",
       "    <tr>\n",
       "      <th>...</th>\n",
       "      <td>...</td>\n",
       "      <td>...</td>\n",
       "      <td>...</td>\n",
       "      <td>...</td>\n",
       "      <td>...</td>\n",
       "      <td>...</td>\n",
       "    </tr>\n",
       "    <tr>\n",
       "      <th>57</th>\n",
       "      <td>2019-08-29</td>\n",
       "      <td>B</td>\n",
       "      <td>596</td>\n",
       "      <td>544</td>\n",
       "      <td>87343.0</td>\n",
       "      <td>17708</td>\n",
       "    </tr>\n",
       "    <tr>\n",
       "      <th>58</th>\n",
       "      <td>2019-08-30</td>\n",
       "      <td>A</td>\n",
       "      <td>545</td>\n",
       "      <td>493</td>\n",
       "      <td>63563.5</td>\n",
       "      <td>18037</td>\n",
       "    </tr>\n",
       "    <tr>\n",
       "      <th>59</th>\n",
       "      <td>2019-08-30</td>\n",
       "      <td>B</td>\n",
       "      <td>620</td>\n",
       "      <td>567</td>\n",
       "      <td>90736.3</td>\n",
       "      <td>18198</td>\n",
       "    </tr>\n",
       "    <tr>\n",
       "      <th>60</th>\n",
       "      <td>2019-08-31</td>\n",
       "      <td>A</td>\n",
       "      <td>557</td>\n",
       "      <td>503</td>\n",
       "      <td>64554.9</td>\n",
       "      <td>18736</td>\n",
       "    </tr>\n",
       "    <tr>\n",
       "      <th>61</th>\n",
       "      <td>2019-08-31</td>\n",
       "      <td>B</td>\n",
       "      <td>640</td>\n",
       "      <td>586</td>\n",
       "      <td>92840.6</td>\n",
       "      <td>18916</td>\n",
       "    </tr>\n",
       "  </tbody>\n",
       "</table>\n",
       "<p>62 rows × 6 columns</p>\n",
       "</div>"
      ],
      "text/plain": [
       "         date group  total_transaction  total_buyer  revenue  visits\n",
       "0  2019-08-01     A                 24           20   2356.8     719\n",
       "1  2019-08-01     B                 21           20   1620.0     713\n",
       "2  2019-08-02     A                 44           38   3860.3    1338\n",
       "3  2019-08-02     B                 45           43   4243.8    1294\n",
       "4  2019-08-03     A                 68           62   5675.5    1845\n",
       "..        ...   ...                ...          ...      ...     ...\n",
       "57 2019-08-29     B                596          544  87343.0   17708\n",
       "58 2019-08-30     A                545          493  63563.5   18037\n",
       "59 2019-08-30     B                620          567  90736.3   18198\n",
       "60 2019-08-31     A                557          503  64554.9   18736\n",
       "61 2019-08-31     B                640          586  92840.6   18916\n",
       "\n",
       "[62 rows x 6 columns]"
      ]
     },
     "execution_count": 39,
     "metadata": {},
     "output_type": "execute_result"
    }
   ],
   "source": [
    "#membuat agregasi setiap orders dan jumlah kunjungan pada data\n",
    "orders_aggregate = dates_group.apply(\n",
    "    lambda x: data_orders[np.logical_and(data_orders['date']<= x['date'],data_orders['group']==x['group'])].agg(\n",
    "    {\n",
    "        'date':'max',\n",
    "        'group':'max',\n",
    "        'transactionId':'nunique',\n",
    "        'visitorId':'nunique',\n",
    "        'revenue':'sum'\n",
    "    }),axis=1).sort_values(by=['date','group'])\n",
    "\n",
    "visits_aggregate = dates_group.apply(\n",
    "    lambda x: data_visits[np.logical_and(data_visits['date']<=x['date'],data_visits['group']==x['group'])].agg(\n",
    "    {\n",
    "        'date':'max',\n",
    "        'group':'max',\n",
    "        'visits':'sum'\n",
    "    }),axis=1).sort_values(by=['date','group'])\n",
    "\n",
    "data_aggregate = orders_aggregate.merge(visits_aggregate,on=['date','group'])\n",
    "data_aggregate = data_aggregate.rename(columns={'transactionId':'total_transaction','visitorId':'total_buyer'})\n",
    "data_aggregate"
   ]
  },
  {
   "cell_type": "markdown",
   "id": "1b1448b6",
   "metadata": {},
   "source": [
    "terlihat pada pendapatannya group A lebih sedikit dibanding group B dan total transaksi dan visitor"
   ]
  },
  {
   "cell_type": "code",
   "execution_count": 40,
   "id": "8613c3d0",
   "metadata": {},
   "outputs": [],
   "source": [
    "aggregateA=data_aggregate[data_aggregate['group']=='A']\n",
    "aggregateB=data_aggregate[data_aggregate['group']=='B']\n"
   ]
  },
  {
   "cell_type": "code",
   "execution_count": 41,
   "id": "c2239bf1",
   "metadata": {},
   "outputs": [
    {
     "data": {
      "text/plain": [
       "<AxesSubplot:xlabel='date', ylabel='revenue'>"
      ]
     },
     "execution_count": 41,
     "metadata": {},
     "output_type": "execute_result"
    },
    {
     "data": {
      "image/png": "[encoded data removed]",
      "text/plain": [
       "<Figure size 1500x500 with 1 Axes>"
      ]
     },
     "metadata": {},
     "output_type": "display_data"
    }
   ],
   "source": [
    "plt.figure(figsize=(15,5))\n",
    "sns.lineplot(data=aggregateA ,x='date',y='revenue',label='A')\n",
    "sns.lineplot(data=aggregateB ,x='date',y='revenue',label='B')"
   ]
  },
  {
   "cell_type": "markdown",
   "id": "a95d5e55",
   "metadata": {},
   "source": [
    "dari hasil analisis didapatkan bahwa revenue yang didapat dari kelompok B lebih banyak dibanding kelompok A, walaupun pada session tertentu revenue dari kelompok A ada yang lebih besar daripada kelompok B, tetapi jika dilihat secara keseluruhan revenue yang didapat dari kelompok B lebih banyak"
   ]
  },
  {
   "cell_type": "markdown",
   "id": "32ee1975",
   "metadata": {},
   "source": [
    "#### Gambarkan ukuran pesanan rata-rata kumulatif berdasarkan kelompok. Buatlah kesimpulan dan asumsinya."
   ]
  },
  {
   "cell_type": "code",
   "execution_count": 42,
   "id": "dc90e784",
   "metadata": {},
   "outputs": [
    {
     "data": {
      "text/plain": [
       "<AxesSubplot:xlabel='date'>"
      ]
     },
     "execution_count": 42,
     "metadata": {},
     "output_type": "execute_result"
    },
    {
     "data": {
      "image/png": "[encoded data removed]",
      "text/plain": [
       "<Figure size 1500x500 with 1 Axes>"
      ]
     },
     "metadata": {},
     "output_type": "display_data"
    }
   ],
   "source": [
    "plt.figure(figsize=(15,5))\n",
    "sns.lineplot(data=aggregateA ,x=aggregateA['date'],y=aggregateA['revenue']/aggregateA['total_transaction'],label='A')\n",
    "sns.lineplot(data=aggregateB ,x=aggregateB['date'],y=aggregateB['revenue']/aggregateB['total_transaction'],label='B')"
   ]
  },
  {
   "cell_type": "markdown",
   "id": "138de547",
   "metadata": {},
   "source": [
    "hasil rata-rata nya pun juga sama, kelompok B mendominasi jumlahnya dibanding kelompok A, ini berbanding lurus dengan revenue yang didapat tadi yang dimana revenue B lebih banyak dari revenue A dan rata-rata nya pun demikian rata-rata bulanan revenue kelompok B lebih banyak dibanding dengan kelompok A"
   ]
  },
  {
   "cell_type": "markdown",
   "id": "db1fb925",
   "metadata": {},
   "source": [
    "#### Gambarkan perbedaan relatif untuk ukuran pesanan rata-rata kumulatif kelompok B yang dibandingkan dengan kelompok A. Buatlah kesimpulan dan asumsinya."
   ]
  },
  {
   "cell_type": "code",
   "execution_count": 43,
   "id": "cba07bec",
   "metadata": {},
   "outputs": [
    {
     "data": {
      "text/plain": [
       "<matplotlib.lines.Line2D at 0x27bac5d1dc0>"
      ]
     },
     "execution_count": 43,
     "metadata": {},
     "output_type": "execute_result"
    },
    {
     "data": {
      "image/png": "[encoded data removed]",
      "text/plain": [
       "<Figure size 1500x500 with 1 Axes>"
      ]
     },
     "metadata": {},
     "output_type": "display_data"
    }
   ],
   "source": [
    "aggregated_relatif=aggregateA.merge(aggregateB,on='date',suffixes=['A','B'])\n",
    "plt.figure(figsize=(15,5))\n",
    "sns.lineplot(data=aggregated_relatif,x=aggregated_relatif['date'],\n",
    "             y=(aggregated_relatif['revenueB']/aggregated_relatif['total_transactionB'])/\n",
    "               (aggregated_relatif['revenueA']/aggregated_relatif['total_transactionA'])-1\n",
    "            )\n",
    "plt.axhline(y=0,color='black',linestyle='--')"
   ]
  },
  {
   "cell_type": "markdown",
   "id": "9ba3020d",
   "metadata": {},
   "source": [
    "walaupun total revenue dan rata-rata dari kelompok B mendominasi dari segi jumlahnya tetapi ada kala nya revenue dari kelompok A lebih banyak dibanding dengan kelompok B, misalnya pada periode 2019-08-01 revenue dari kelompok A lebih banyak sekitar 2% dibanding B "
   ]
  },
  {
   "cell_type": "markdown",
   "id": "9c469fff",
   "metadata": {},
   "source": [
    "### Hitung tingkat konversi setiap kelompok sebagai rasio pesanan terhadap jumlah kunjungan setiap hari. Buat grafik tingkat konversi harian dari kedua kelompok dan jelaskan perbedaannya. Buatlah kesimpulan dan asumsinya."
   ]
  },
  {
   "cell_type": "code",
   "execution_count": 44,
   "id": "afbce3c2",
   "metadata": {},
   "outputs": [
    {
     "data": {
      "text/plain": [
       "<AxesSubplot:xlabel='date'>"
      ]
     },
     "execution_count": 44,
     "metadata": {},
     "output_type": "execute_result"
    },
    {
     "data": {
      "image/png": "[encoded data removed]",
      "text/plain": [
       "<Figure size 1500x500 with 1 Axes>"
      ]
     },
     "metadata": {},
     "output_type": "display_data"
    }
   ],
   "source": [
    "plt.figure(figsize=(15,5))\n",
    "sns.lineplot(data = aggregateA,x=aggregateA['date'],y=aggregateA['visits']/aggregateA['total_buyer'],label='A')\n",
    "sns.lineplot(data = aggregateB,x=aggregateB['date'],y=aggregateB['visits']/aggregateB['total_buyer'],label='B')"
   ]
  },
  {
   "cell_type": "markdown",
   "id": "f41c9761",
   "metadata": {},
   "source": [
    "dari konversi justu dari kelompok A lebih banyak dari kelompok B artinya dari jumlah pelanggan yang visit pelanggan di kelompok A lebih banyak melakukan pembelilan/transaksi"
   ]
  },
  {
   "cell_type": "markdown",
   "id": "5b6126de",
   "metadata": {},
   "source": [
    "### Buatlah diagram tebar (scatter chart) untuk jumlah pesanan per pengguna. Buatlah kesimpulan dan asumsinya."
   ]
  },
  {
   "cell_type": "code",
   "execution_count": 45,
   "id": "e888d36c",
   "metadata": {},
   "outputs": [
    {
     "data": {
      "text/plain": [
       "<AxesSubplot:ylabel='transactionId'>"
      ]
     },
     "execution_count": 45,
     "metadata": {},
     "output_type": "execute_result"
    },
    {
     "data": {
      "image/png": "[encoded data removed]",
      "text/plain": [
       "<Figure size 1000x500 with 1 Axes>"
      ]
     },
     "metadata": {},
     "output_type": "display_data"
    }
   ],
   "source": [
    "total_order = data_orders[['transactionId','visitorId']]\n",
    "c = total_order.groupby('visitorId').agg({'transactionId':'nunique'}).reset_index()\n",
    "#c\n",
    "plt.figure(figsize=(10,5))\n",
    "sns.scatterplot(data=c,x=range(len(c)),y='transactionId')\n"
   ]
  },
  {
   "cell_type": "markdown",
   "id": "89f88272",
   "metadata": {},
   "source": [
    "kebanyakan customer di kedua kelompok hanya melakukan 1 transaksi saja hanya sedikit yang melakukan sampai lebih dari 3 transaksi, hal tersebut dapat dilihat dari persebaran customer pada scatter plot, dot di scatter plot mewakili customer id, dan mayoritas persebaran ada di titik 1 yang artinya hanya membeli 1 barang dan sedikit sekali yang melakukan transaksi sampai diatasa 5 kali"
   ]
  },
  {
   "cell_type": "markdown",
   "id": "5c9f7e83",
   "metadata": {},
   "source": [
    "#### Hitung persentil ke-95 dan ke-99 untuk jumlah pesanan per pengguna. Tentukan titik ketika suatu titik data berubah menjadi anomali."
   ]
  },
  {
   "cell_type": "code",
   "execution_count": 46,
   "id": "d6eb4020",
   "metadata": {},
   "outputs": [
    {
     "data": {
      "text/plain": [
       "array([2., 4.])"
      ]
     },
     "execution_count": 46,
     "metadata": {},
     "output_type": "execute_result"
    }
   ],
   "source": [
    "np.percentile(c['transactionId'],[95,99])"
   ]
  },
  {
   "cell_type": "markdown",
   "id": "7a467e2f",
   "metadata": {},
   "source": [
    "rata rata 95% pelanggan melakukan transaksi dibawah 2 \n",
    "\n",
    "rata rata 99% pelanggan melakukan transaksi dibawah 4"
   ]
  },
  {
   "cell_type": "markdown",
   "id": "e83e38b3",
   "metadata": {},
   "source": [
    "#### Buatlah diagram tebar (scatter chart) untuk harga pesanan. Buatlah kesimpulan dan asumsinya."
   ]
  },
  {
   "cell_type": "code",
   "execution_count": 47,
   "id": "43049bca",
   "metadata": {},
   "outputs": [
    {
     "data": {
      "text/plain": [
       "<AxesSubplot:ylabel='revenue'>"
      ]
     },
     "execution_count": 47,
     "metadata": {},
     "output_type": "execute_result"
    },
    {
     "data": {
      "image/png": "[encoded data removed]",
      "text/plain": [
       "<Figure size 1000x500 with 1 Axes>"
      ]
     },
     "metadata": {},
     "output_type": "display_data"
    }
   ],
   "source": [
    "plt.figure(figsize=(10,5))\n",
    "sns.scatterplot(x=range(len(data_orders['transactionId'])),y=data_orders['revenue'])\n"
   ]
  },
  {
   "cell_type": "markdown",
   "id": "c7173fbc",
   "metadata": {},
   "source": [
    "rata rata pelanggan menghabiskan uang mereka untuk belanja di kisaran tidak lebih dari 2500$ dan hanya sedikit yang diatas 2500$"
   ]
  },
  {
   "cell_type": "markdown",
   "id": "600efcb5",
   "metadata": {},
   "source": [
    "#### Hitung persentil ke-95 dan ke-99 untuk harga pesanan. Tentukan titik ketika suatu titik data berubah menjadi anomali."
   ]
  },
  {
   "cell_type": "code",
   "execution_count": 48,
   "id": "c45ceb51",
   "metadata": {},
   "outputs": [
    {
     "data": {
      "text/plain": [
       "array([282.48 , 435.54 , 900.904])"
      ]
     },
     "execution_count": 48,
     "metadata": {},
     "output_type": "execute_result"
    }
   ],
   "source": [
    "np.percentile(data_orders['revenue'],[90,95,99])"
   ]
  },
  {
   "cell_type": "markdown",
   "id": "db3ec90a",
   "metadata": {},
   "source": [
    "90% pelanggan menghabiskan uang mereka dibawah 282.48\n",
    "95% pelanggan menghabiskan uang mereka dibawah 435.54\n",
    "99% pelanggan menghabiskan uang mereka dibawah 900.904"
   ]
  },
  {
   "cell_type": "markdown",
   "id": "2c646dc0",
   "metadata": {},
   "source": [
    "#### Temukan signifikansi statistik perbedaan konversi antar kelompok menggunakan data mentah. Buatlah kesimpulan dan asumsinya.\n"
   ]
  },
  {
   "cell_type": "markdown",
   "id": "8c2b61ab",
   "metadata": {},
   "source": [
    "#H0 = Konversi grup A sama dengan grup B\n",
    "\n",
    "#H1 = Konversi grup A tidak sama dengan grup B"
   ]
  },
  {
   "cell_type": "code",
   "execution_count": 49,
   "id": "5b6100ca",
   "metadata": {},
   "outputs": [],
   "source": [
    "alpha = 0.05\n",
    "a_conversion = data_orders[data_orders['group']=='A'].groupby('visitorId',as_index=False).agg({'transactionId': pd.Series.nunique})\n",
    "b_conversion = data_orders[data_orders['group']=='B'].groupby('visitorId',as_index=False).agg({'transactionId':'nunique'})\n",
    "a_conversion.columns=['visitorId','total_transaction']\n",
    "b_conversion.columns=['visitorId','total_transaction']"
   ]
  },
  {
   "cell_type": "markdown",
   "id": "28b933ab",
   "metadata": {},
   "source": [
    "pada bagian ini saya ingin melakukan pengelompokkan berdasarkan kelompok dengan  id visitor guna mengetahui transaksi yang mereka lakukan"
   ]
  },
  {
   "cell_type": "code",
   "execution_count": 69,
   "id": "58508d15",
   "metadata": {},
   "outputs": [
    {
     "name": "stdout",
     "output_type": "stream",
     "text": [
      "dapat menolak H0\n",
      "nilai Pvalue adalah = 0.017\n",
      "nilai konversi User Grup B =0.138\n"
     ]
    }
   ],
   "source": [
    "#a_conversion['total_transaction']\n",
    "conversionA = pd.concat([a_conversion['total_transaction'],\n",
    "                        pd.Series(0, index=np.arange(data_visits[data_visits['group']=='A']['visits'].sum()-len(a_conversion['total_transaction'])))],axis=0)\n",
    "conversionB = pd.concat([b_conversion['total_transaction'],\n",
    "                        pd.Series(0, index=np.arange(data_visits[data_visits['group']=='B']['visits'].sum()-len(b_conversion['total_transaction'])))],axis=0)\n",
    "\n",
    "result= st.mannwhitneyu(conversionA,conversionB)[1]\n",
    "pvalue = result\n",
    "if pvalue < alpha:\n",
    "    print('dapat menolak H0')\n",
    "else:\n",
    "    print('todal dapat menolak H0')\n",
    "\n",
    "print('nilai Pvalue adalah = ''{0:.3f}'.format (st.mannwhitneyu(conversionA,conversionB)[1]))\n",
    "print('nilai konversi User Grup B =''{0:.3f}'.format(conversionB.mean()/conversionA.mean()-1))"
   ]
  },
  {
   "cell_type": "markdown",
   "id": "65e868bf",
   "metadata": {},
   "source": [
    "Disini saya menguji apakah konversi kelompok a sama atau tidak dengan kelompok b menggunakan metode mannwhitneyu untuk mencari nilai pvaluenya dan nanti dibandingkan dengan nilai alpha yang saya set = 0.05 dan hasilnya adalah nilai konversi a dan b tidak sama terlihat pada asumsi ini kita bisa menolak H0 dan menerima H1 untuk lebih meyakinkan saya mencari nilai konversi grup B yang nilainya 0.138. Artinya konversi grup B lebih banyak 13% dibanding grup A"
   ]
  },
  {
   "cell_type": "markdown",
   "id": "ce5bf28d",
   "metadata": {},
   "source": [
    "#### Temukan signifikansi statistik perbedaan ukuran pesanan rata-rata antar kelompok menggunakan data mentah. Buatlah kesimpulan dan asumsinya."
   ]
  },
  {
   "cell_type": "markdown",
   "id": "873d8ff4",
   "metadata": {},
   "source": [
    "H0 : Ukuran pesanan rata-rata antar kelompok sama\n",
    "\n",
    "H1 : Ukuran pesanan rata-rata antar kelompok tidak sama"
   ]
  },
  {
   "cell_type": "code",
   "execution_count": 52,
   "id": "df02ee14",
   "metadata": {},
   "outputs": [
    {
     "name": "stdout",
     "output_type": "stream",
     "text": [
      "Dapat menolak H0\n",
      "nilai pvalue: 0.6915246773264736\n",
      "total rata-rata perbedaan pesanan antara group B dibanding A= 0.25\n"
     ]
    }
   ],
   "source": [
    "result = st.mannwhitneyu(data_orders[data_orders['group']=='A']['revenue'],data_orders[data_orders['group']=='B']['revenue'])[1]\n",
    "pvalue = result\n",
    "\n",
    "if alpha <0:\n",
    "    print('Tidak bisa menolak H0,')\n",
    "else :\n",
    "    print('Dapat menolak H0')\n",
    "    \n",
    "print('nilai pvalue:', result)\n",
    "print('total rata-rata perbedaan pesanan antara group B dibanding A=','{0:.2f}'.format(data_orders[data_orders['group']=='B']['revenue'].mean()/data_orders[data_orders['group']=='A']['revenue'].mean()-1))"
   ]
  },
  {
   "cell_type": "markdown",
   "id": "95c7e12d",
   "metadata": {},
   "source": [
    "pada uji hipotesis ini ditemukan ada perbedaan ratara pesanan antar kelompok dengan perbedaan sekitar 25 %, uji coba ini saya lakukan dengan menggunakan mannwhitneyu\n"
   ]
  },
  {
   "cell_type": "markdown",
   "id": "77380720",
   "metadata": {},
   "source": [
    "#### Temukan signifikansi statistik perbedaan konversi antar kelompok menggunakan data yang telah difilter. Buatlah kesimpulan dan asumsinya."
   ]
  },
  {
   "cell_type": "markdown",
   "id": "2d5e844e",
   "metadata": {},
   "source": [
    "H0 : konversi grup A dan B sama\n",
    "\n",
    "H1 : konversi grup A dan B tidak sama"
   ]
  },
  {
   "cell_type": "code",
   "execution_count": 53,
   "id": "76658647",
   "metadata": {},
   "outputs": [],
   "source": [
    "#filter berdasarkan user_id yang melakukan pesanan lebih dari 3 kali\n",
    "#dan total pesanan lebih dari harga yang ditentukan\n",
    "\n",
    "filtered_transaction = pd.concat([a_conversion[a_conversion['total_transaction']>2]['visitorId'],\n",
    "                     b_conversion[b_conversion['total_transaction']>2]['visitorId']],axis=0)\n",
    "\n",
    "filtered_revenue = pd.concat([data_orders[data_orders['revenue']>=350]['visitorId']],axis=0)\n",
    "abnormal_user = pd.concat([filtered_transaction,filtered_revenue],axis=0).sort_values().drop_duplicates()"
   ]
  },
  {
   "cell_type": "code",
   "execution_count": 54,
   "id": "b3226188",
   "metadata": {},
   "outputs": [
    {
     "data": {
      "text/plain": [
       "568      113298937\n",
       "1099     148427295\n",
       "461      154576532\n",
       "18       199603092\n",
       "928      204675465\n",
       "           ...    \n",
       "627     4120364173\n",
       "743     4133034833\n",
       "60      4256040402\n",
       "662     4266935830\n",
       "886     4278982564\n",
       "Name: visitorId, Length: 95, dtype: int64"
      ]
     },
     "execution_count": 54,
     "metadata": {},
     "output_type": "execute_result"
    }
   ],
   "source": [
    "abnormal_user"
   ]
  },
  {
   "cell_type": "markdown",
   "id": "33a58428",
   "metadata": {},
   "source": [
    "pada bagian ini saya melakukan uji hipotesis tapi dengan data yang sudah difilter untuk menguji statistik pada 2 kelompok, yang saya filter adalah data pelanggan yang melakukan transaksi lebih dari 2 dan menghabiskan dana lebih dari atau sama dengan 350 maka tidak akan masuk dataset untuk pengujian, saya membuat variabel benama abnormal user, untuk menyimpan customer dengan 2 keadaan diatas, yang nantinya digunakan sebagai parameter agar menguji data selain abnormal_user ini"
   ]
  },
  {
   "cell_type": "code",
   "execution_count": 73,
   "id": "1a752825",
   "metadata": {},
   "outputs": [
    {
     "name": "stdout",
     "output_type": "stream",
     "text": [
      "TIdak dapat menolak H0,konversi grup A dan B sama\n",
      "nilai pvalue adalah 0.016792355056752608\n",
      "nilai konversi grup B terhadap grup A adalah =  0.14\n"
     ]
    }
   ],
   "source": [
    "conversionA_filtered= pd.concat([a_conversion[np.logical_not(a_conversion['total_transaction'].isin(abnormal_user))]['total_transaction'],\n",
    "                                pd.Series(0,index=np.arange(data_visits[data_visits['group']=='A']['visits'].sum()-len(a_conversion['total_transaction'])))                               \n",
    "                                ],axis=0 )\n",
    "conversionB_filtered= pd.concat([b_conversion[np.logical_not(b_conversion['total_transaction'].isin(abnormal_user))]['total_transaction'],\n",
    "                                pd.Series(0,index=np.arange(data_visits[data_visits['group']=='B']['visits'].sum()-len(b_conversion['total_transaction'])))\n",
    "                                ],axis=0)\n",
    "\n",
    "result_filtered = st.mannwhitneyu(conversionA_filtered,conversionB_filtered)[1]\n",
    "pvalue2 = result_filtered\n",
    "\n",
    "if pvalue2 < alpha:\n",
    "    print('TIdak dapat menolak H0,konversi grup A dan B sama')\n",
    "else:\n",
    "    print('Dapat menolak H0, konversi grup A dan B tidak sama')\n",
    "\n",
    "    \n",
    "print('nilai pvalue adalah',pvalue2)\n",
    "print('nilai konversi grup B terhadap grup A adalah = ', '{0:.2f}'.format(conversionB_filtered.mean()/conversionA_filtered.mean()-1))\n",
    "    "
   ]
  },
  {
   "cell_type": "markdown",
   "id": "2e1f3934",
   "metadata": {},
   "source": [
    "setelah diuji hipotesis menggunakan data yang sudah difilter ternyata konversi grup A dan grub B sama, terlihat dari uji hipotesis yang diberikan dan perbedaan konversi grup A dan grup B rata-ratanya hanya berbeda sedikit yaitu sekitar 14%"
   ]
  },
  {
   "cell_type": "markdown",
   "id": "66cb63c0",
   "metadata": {},
   "source": [
    "#### Temukan signifikansi statistik perbedaan ukuran pesanan rata-rata antar kelompok menggunakan data yang telah difilter. Buatlah kesimpulan dan asumsinya.\n",
    "\n",
    "\n",
    "\n",
    "H0 : Ukuran pesanan rata-rata antar kelompok sama\n",
    "\n",
    "H1 : Ukuran pesanan rata-rata antar kelompok tidak sama"
   ]
  },
  {
   "cell_type": "code",
   "execution_count": 72,
   "id": "60fc23ae",
   "metadata": {},
   "outputs": [
    {
     "name": "stdout",
     "output_type": "stream",
     "text": [
      "Dapat menolak H0, Ukuran pesanan rata-rata antar kelompok tidak sama\n",
      "nilai pvalue adalah =  0.6941998188465728\n",
      "perbedaan pesanan antara grub a dan b adalah =  -0.04\n"
     ]
    }
   ],
   "source": [
    "result_2 = st.mannwhitneyu(data_orders[np.logical_and\n",
    "                                       (data_orders['group']=='A',\n",
    "                                        np.logical_not(data_orders['visitorId'].isin(abnormal_user)))]['revenue'],\n",
    "                           data_orders[np.logical_and\n",
    "                                      (data_orders['group']=='B',\n",
    "                                      np.logical_not(data_orders['visitorId'].isin(abnormal_user)))]['revenue']\n",
    "                      \n",
    "                          )[1]\n",
    "pvalue2 = result_2\n",
    "if pvalue2 < alpha :\n",
    "    print('Tidak dapat menolak H0, Ukuran pesanan rata-rata antar kelompok sama')\n",
    "else :\n",
    "    print('Dapat menolak H0, Ukuran pesanan rata-rata antar kelompok tidak sama')\n",
    "    \n",
    "print('nilai pvalue adalah = ', pvalue2)\n",
    "print('perbedaan pesanan antara grub a dan b adalah = ', '{0:.2f}'.format(\n",
    "    data_orders[np.logical_and(data_orders['group']=='B', np.logical_not(data_orders['visitorId'].isin(abnormal_user)))]['revenue'].mean()/\n",
    "    data_orders[np.logical_and(data_orders['group']=='A', np.logical_not(data_orders['visitorId'].isin(abnormal_user)))]['revenue'].mean()-1))"
   ]
  },
  {
   "cell_type": "markdown",
   "id": "e32b2ac8",
   "metadata": {},
   "source": [
    "walaupun jumlah konversinya sama antara grub A dan grub B terhadap pelanggan yang melakukan visit lalu beli, ternyata rata-rata pendapatannya berbeda antara grup A dan grup B terlihat pada uji statistik yang dilakukan, walaupun berbedaanya antara a dan b tidak terlalu jauh untuk rata-ratanya sekitar 4%"
   ]
  },
  {
   "cell_type": "markdown",
   "id": "55e95cde",
   "metadata": {},
   "source": [
    "### hasil pengujian \n",
    "\n",
    "\n",
    "Kesimpulan yang saya dapatkan setelah melakukan hipotesis adalah Menghentikan pengujian, serta mempertimbangkan salah satu kelompok sebagai pemimpin. Terlihat pada konversi pelanggan pada grup B yang mana lebih banyak pelanggan yang melakukan pembelian dari dia visit lalu order dibanding konversi pelanggan pada grup A yang lebih rendah dari dia visit lalu order, disini terlihat pelanggan dari grup B lebih banyak melakukan order dari pada pelanggan grup a, walaupun rata rata pembelian tidak berbeda mungkin ada beberapa faktor yang berpengaruh misalnya outlier terlihat setelah melakukan filter pada kelompok pelanggan perbedaan rata-rata konversi pada grup b terhadap a mendekati 0\n",
    "\n",
    "\n",
    "Dari hasil analisis menggunakan metode ICE dan RICE hasilnya cukup berbeda,\n",
    "kita tahu jika menggunakan metode RICE hasilnya kita melibatkan jangkauan\n",
    "apakah ide ini berpengaruh besar pada pelanggan atau tidak, sebaliknya dengan\n",
    "metode ICE kita tidak memikirkan jangkauan ide ini berpengaruh pada pelanggan atau \n",
    "tidak(lebih sederhana). Tetapi walaupun hipotesis diuji dengan 2 cara yang berbeda\n",
    "(dengan metode ICE dan RICE) ada hipotesis yang nilai atau bobot prioritasnya cukup\n",
    "tinggi di kedua metode dan harus diprioritaskan lebih dahulu. Bagi saya metode RICE\n",
    "lebih diutamakan dahulu dibanding ICE karena RICE mencakup apakah suatu ide ini\n",
    "berdampak bagus bagi pelanggan atau tidak. Bagi saya akan sedikit percuma jika\n",
    "suatu ide bagus untuk sebuah toko online tetapi pelanggannya merasa tidak nyaman\n",
    "saat menggunakan toko online yang dianggap wah tokonya sudah bagus dan sesuai harapan\n",
    "bagi pembuatnya. Dari hasil pengujian dengan metode RICE dan ICE diatas terdapat hipotersis\n",
    "yang nilainya tinggi di kedua hasil metode percobaan yaitu adalah:\n",
    "\n",
    "'Add a subscription form to all the main pages. This will help you compile a mailing list'\n",
    "hipotesis ini nilai bobotnya di kedua metode cukup tinggi untuk point pembobotan dan menurut saya \n",
    "hipotesis tersebut bisa jadi prioritas yang dikerjakan dahulu untuk mengingkatkan jumlah pelanggan yang\n",
    "visit dan belanja ke toko online ini. Lalu untuk hipotesis lain jika saya urutkan mana yang paling\n",
    "penting/prioritas untuk meningkatkan jumlah pelanggan ke toko online ini adalah :\n",
    "\n",
    "'Add a subscription form to all the main pages. This will help you compile a mailing list'\n",
    "\n",
    "'Add two new channels for attracting traffic. This will bring 30% more users'\n",
    "\n",
    "'Show banners with current offers and sales on the main page. This will boost conversion',\n",
    "\n",
    "'Add product recommendation blocks to the store's site. This will increase conversion and average purchase size'\n"
   ]
  }
 ],
 "metadata": {
  "kernelspec": {
   "display_name": "Python 3 (ipykernel)",
   "language": "python",
   "name": "python3"
  },
  "language_info": {
   "codemirror_mode": {
    "name": "ipython",
    "version": 3
   },
   "file_extension": ".py",
   "mimetype": "text/x-python",
   "name": "python",
   "nbconvert_exporter": "python",
   "pygments_lexer": "ipython3",
   "version": "3.9.13"
  }
 },
 "nbformat": 4,
 "nbformat_minor": 5
}
